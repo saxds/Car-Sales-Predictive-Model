{
 "cells": [
  {
   "cell_type": "code",
   "execution_count": 5,
   "id": "76d9e58c",
   "metadata": {},
   "outputs": [
    {
     "data": {
      "text/html": [
       "<div>\n",
       "<style scoped>\n",
       "    .dataframe tbody tr th:only-of-type {\n",
       "        vertical-align: middle;\n",
       "    }\n",
       "\n",
       "    .dataframe tbody tr th {\n",
       "        vertical-align: top;\n",
       "    }\n",
       "\n",
       "    .dataframe thead th {\n",
       "        text-align: right;\n",
       "    }\n",
       "</style>\n",
       "<table border=\"1\" class=\"dataframe\">\n",
       "  <thead>\n",
       "    <tr style=\"text-align: right;\">\n",
       "      <th></th>\n",
       "      <th>Car_name</th>\n",
       "      <th>BP_USD</th>\n",
       "      <th>MP_USD</th>\n",
       "      <th>FP_USD</th>\n",
       "      <th>Make</th>\n",
       "      <th>Segment</th>\n",
       "      <th>Min_CC</th>\n",
       "      <th>Max_CC</th>\n",
       "      <th>Single_CC</th>\n",
       "      <th>Min_HP</th>\n",
       "      <th>Max_HP</th>\n",
       "      <th>No_add_prf</th>\n",
       "      <th>FE_KML_MIN</th>\n",
       "      <th>FE_KML_MAX</th>\n",
       "      <th>TCO_Min</th>\n",
       "      <th>TCO_Max</th>\n",
       "      <th>YTD</th>\n",
       "      <th>YTD LY</th>\n",
       "      <th>CHANGE %</th>\n",
       "    </tr>\n",
       "  </thead>\n",
       "  <tbody>\n",
       "    <tr>\n",
       "      <th>0</th>\n",
       "      <td>Volkswagen Jetta</td>\n",
       "      <td>22500</td>\n",
       "      <td>26000</td>\n",
       "      <td>30000</td>\n",
       "      <td>Volkswagen</td>\n",
       "      <td>B1</td>\n",
       "      <td>1600</td>\n",
       "      <td>2000</td>\n",
       "      <td>NaN</td>\n",
       "      <td>150</td>\n",
       "      <td>228</td>\n",
       "      <td>NaN</td>\n",
       "      <td>15.0</td>\n",
       "      <td>18.0</td>\n",
       "      <td>4000</td>\n",
       "      <td>6000</td>\n",
       "      <td>97461</td>\n",
       "      <td>98951</td>\n",
       "      <td>-1.51</td>\n",
       "    </tr>\n",
       "    <tr>\n",
       "      <th>1</th>\n",
       "      <td>Ford Focus</td>\n",
       "      <td>20000</td>\n",
       "      <td>23000</td>\n",
       "      <td>27000</td>\n",
       "      <td>Ford</td>\n",
       "      <td>B1</td>\n",
       "      <td>1600</td>\n",
       "      <td>2000</td>\n",
       "      <td>NaN</td>\n",
       "      <td>120</td>\n",
       "      <td>252</td>\n",
       "      <td>NaN</td>\n",
       "      <td>15.0</td>\n",
       "      <td>20.0</td>\n",
       "      <td>4000</td>\n",
       "      <td>6000</td>\n",
       "      <td>195823</td>\n",
       "      <td>173213</td>\n",
       "      <td>13.05</td>\n",
       "    </tr>\n",
       "    <tr>\n",
       "      <th>2</th>\n",
       "      <td>Hyundai Elantra</td>\n",
       "      <td>20500</td>\n",
       "      <td>23000</td>\n",
       "      <td>28000</td>\n",
       "      <td>Hyundai</td>\n",
       "      <td>B1</td>\n",
       "      <td>1600</td>\n",
       "      <td>2000</td>\n",
       "      <td>NaN</td>\n",
       "      <td>120</td>\n",
       "      <td>276</td>\n",
       "      <td>NaN</td>\n",
       "      <td>14.0</td>\n",
       "      <td>18.0</td>\n",
       "      <td>4000</td>\n",
       "      <td>6000</td>\n",
       "      <td>94720</td>\n",
       "      <td>85724</td>\n",
       "      <td>10.49</td>\n",
       "    </tr>\n",
       "    <tr>\n",
       "      <th>3</th>\n",
       "      <td>Audi TT</td>\n",
       "      <td>40000</td>\n",
       "      <td>45000</td>\n",
       "      <td>55000</td>\n",
       "      <td>Audi</td>\n",
       "      <td>D2</td>\n",
       "      <td>1800</td>\n",
       "      <td>2000</td>\n",
       "      <td>NaN</td>\n",
       "      <td>160</td>\n",
       "      <td>280</td>\n",
       "      <td>NaN</td>\n",
       "      <td>9.0</td>\n",
       "      <td>12.0</td>\n",
       "      <td>7000</td>\n",
       "      <td>9500</td>\n",
       "      <td>4486</td>\n",
       "      <td>4355</td>\n",
       "      <td>3.01</td>\n",
       "    </tr>\n",
       "    <tr>\n",
       "      <th>4</th>\n",
       "      <td>Audi A3</td>\n",
       "      <td>30000</td>\n",
       "      <td>35000</td>\n",
       "      <td>40000</td>\n",
       "      <td>Audi</td>\n",
       "      <td>B1</td>\n",
       "      <td>1800</td>\n",
       "      <td>2000</td>\n",
       "      <td>NaN</td>\n",
       "      <td>150</td>\n",
       "      <td>300</td>\n",
       "      <td>NaN</td>\n",
       "      <td>12.0</td>\n",
       "      <td>15.0</td>\n",
       "      <td>6000</td>\n",
       "      <td>8500</td>\n",
       "      <td>4759</td>\n",
       "      <td>6354</td>\n",
       "      <td>-25.10</td>\n",
       "    </tr>\n",
       "    <tr>\n",
       "      <th>...</th>\n",
       "      <td>...</td>\n",
       "      <td>...</td>\n",
       "      <td>...</td>\n",
       "      <td>...</td>\n",
       "      <td>...</td>\n",
       "      <td>...</td>\n",
       "      <td>...</td>\n",
       "      <td>...</td>\n",
       "      <td>...</td>\n",
       "      <td>...</td>\n",
       "      <td>...</td>\n",
       "      <td>...</td>\n",
       "      <td>...</td>\n",
       "      <td>...</td>\n",
       "      <td>...</td>\n",
       "      <td>...</td>\n",
       "      <td>...</td>\n",
       "      <td>...</td>\n",
       "      <td>...</td>\n",
       "    </tr>\n",
       "    <tr>\n",
       "      <th>263</th>\n",
       "      <td>Buick Rainier</td>\n",
       "      <td>30000</td>\n",
       "      <td>35000</td>\n",
       "      <td>40000</td>\n",
       "      <td>Buick</td>\n",
       "      <td>C2</td>\n",
       "      <td>4200</td>\n",
       "      <td>4200</td>\n",
       "      <td>1.0</td>\n",
       "      <td>285</td>\n",
       "      <td>285</td>\n",
       "      <td>1.0</td>\n",
       "      <td>8.0</td>\n",
       "      <td>12.0</td>\n",
       "      <td>6500</td>\n",
       "      <td>9000</td>\n",
       "      <td>117</td>\n",
       "      <td>4819</td>\n",
       "      <td>-97.57</td>\n",
       "    </tr>\n",
       "    <tr>\n",
       "      <th>264</th>\n",
       "      <td>Mercedes-Benz SLR McLaren</td>\n",
       "      <td>500000</td>\n",
       "      <td>600000</td>\n",
       "      <td>700000</td>\n",
       "      <td>Mercedes-Benz</td>\n",
       "      <td>D2</td>\n",
       "      <td>5400</td>\n",
       "      <td>5400</td>\n",
       "      <td>1.0</td>\n",
       "      <td>617</td>\n",
       "      <td>617</td>\n",
       "      <td>1.0</td>\n",
       "      <td>7.0</td>\n",
       "      <td>10.0</td>\n",
       "      <td>30000</td>\n",
       "      <td>40000</td>\n",
       "      <td>106</td>\n",
       "      <td>104</td>\n",
       "      <td>1.92</td>\n",
       "    </tr>\n",
       "    <tr>\n",
       "      <th>265</th>\n",
       "      <td>Chevrolet Optra</td>\n",
       "      <td>18000</td>\n",
       "      <td>22000</td>\n",
       "      <td>25000</td>\n",
       "      <td>Chevrolet</td>\n",
       "      <td>B1</td>\n",
       "      <td>1800</td>\n",
       "      <td>1800</td>\n",
       "      <td>1.0</td>\n",
       "      <td>120</td>\n",
       "      <td>120</td>\n",
       "      <td>1.0</td>\n",
       "      <td>12.0</td>\n",
       "      <td>15.0</td>\n",
       "      <td>4000</td>\n",
       "      <td>6000</td>\n",
       "      <td>76</td>\n",
       "      <td>4148</td>\n",
       "      <td>-98.17</td>\n",
       "    </tr>\n",
       "    <tr>\n",
       "      <th>266</th>\n",
       "      <td>Buick Rendezvous</td>\n",
       "      <td>28000</td>\n",
       "      <td>32000</td>\n",
       "      <td>37000</td>\n",
       "      <td>Buick</td>\n",
       "      <td>C2</td>\n",
       "      <td>3400</td>\n",
       "      <td>3400</td>\n",
       "      <td>1.0</td>\n",
       "      <td>185</td>\n",
       "      <td>185</td>\n",
       "      <td>1.0</td>\n",
       "      <td>9.0</td>\n",
       "      <td>12.0</td>\n",
       "      <td>5500</td>\n",
       "      <td>7500</td>\n",
       "      <td>27</td>\n",
       "      <td>15295</td>\n",
       "      <td>-99.82</td>\n",
       "    </tr>\n",
       "    <tr>\n",
       "      <th>267</th>\n",
       "      <td>Honda Clarity FCV</td>\n",
       "      <td>40000</td>\n",
       "      <td>45000</td>\n",
       "      <td>50000</td>\n",
       "      <td>Honda</td>\n",
       "      <td>C1</td>\n",
       "      <td>1200</td>\n",
       "      <td>1200</td>\n",
       "      <td>1.0</td>\n",
       "      <td>174</td>\n",
       "      <td>174</td>\n",
       "      <td>1.0</td>\n",
       "      <td>NaN</td>\n",
       "      <td>NaN</td>\n",
       "      <td>5000</td>\n",
       "      <td>8000</td>\n",
       "      <td>2</td>\n",
       "      <td>0</td>\n",
       "      <td>0.00</td>\n",
       "    </tr>\n",
       "  </tbody>\n",
       "</table>\n",
       "<p>268 rows × 19 columns</p>\n",
       "</div>"
      ],
      "text/plain": [
       "                      Car_name  BP_USD  MP_USD  FP_USD           Make Segment  \\\n",
       "0             Volkswagen Jetta   22500   26000   30000     Volkswagen      B1   \n",
       "1                   Ford Focus   20000   23000   27000           Ford      B1   \n",
       "2              Hyundai Elantra   20500   23000   28000        Hyundai      B1   \n",
       "3                      Audi TT   40000   45000   55000           Audi      D2   \n",
       "4                      Audi A3   30000   35000   40000           Audi      B1   \n",
       "..                         ...     ...     ...     ...            ...     ...   \n",
       "263              Buick Rainier   30000   35000   40000          Buick      C2   \n",
       "264  Mercedes-Benz SLR McLaren  500000  600000  700000  Mercedes-Benz      D2   \n",
       "265            Chevrolet Optra   18000   22000   25000      Chevrolet      B1   \n",
       "266           Buick Rendezvous   28000   32000   37000          Buick      C2   \n",
       "267          Honda Clarity FCV   40000   45000   50000          Honda      C1   \n",
       "\n",
       "     Min_CC  Max_CC  Single_CC  Min_HP  Max_HP  No_add_prf  FE_KML_MIN  \\\n",
       "0      1600    2000        NaN     150     228         NaN        15.0   \n",
       "1      1600    2000        NaN     120     252         NaN        15.0   \n",
       "2      1600    2000        NaN     120     276         NaN        14.0   \n",
       "3      1800    2000        NaN     160     280         NaN         9.0   \n",
       "4      1800    2000        NaN     150     300         NaN        12.0   \n",
       "..      ...     ...        ...     ...     ...         ...         ...   \n",
       "263    4200    4200        1.0     285     285         1.0         8.0   \n",
       "264    5400    5400        1.0     617     617         1.0         7.0   \n",
       "265    1800    1800        1.0     120     120         1.0        12.0   \n",
       "266    3400    3400        1.0     185     185         1.0         9.0   \n",
       "267    1200    1200        1.0     174     174         1.0         NaN   \n",
       "\n",
       "     FE_KML_MAX  TCO_Min  TCO_Max     YTD  YTD LY  CHANGE %  \n",
       "0          18.0     4000     6000   97461   98951     -1.51  \n",
       "1          20.0     4000     6000  195823  173213     13.05  \n",
       "2          18.0     4000     6000   94720   85724     10.49  \n",
       "3          12.0     7000     9500    4486    4355      3.01  \n",
       "4          15.0     6000     8500    4759    6354    -25.10  \n",
       "..          ...      ...      ...     ...     ...       ...  \n",
       "263        12.0     6500     9000     117    4819    -97.57  \n",
       "264        10.0    30000    40000     106     104      1.92  \n",
       "265        15.0     4000     6000      76    4148    -98.17  \n",
       "266        12.0     5500     7500      27   15295    -99.82  \n",
       "267         NaN     5000     8000       2       0      0.00  \n",
       "\n",
       "[268 rows x 19 columns]"
      ]
     },
     "execution_count": 5,
     "metadata": {},
     "output_type": "execute_result"
    }
   ],
   "source": [
    "import pandas as pd\n",
    "\n",
    "# Sample DataFrame with mixed data types\n",
    "# data = {\n",
    "#     'Age': [25, 30, 35],\n",
    "#     'City': ['New York', 'Los Angeles', 'Chicago'],\n",
    "#     'Gender': ['F', 'M', 'M'],\n",
    "#     'Salary': [50000, 60000, 70000]\n",
    "# }\n",
    "data = pd.read_csv('sale_car.csv')\n",
    "df = pd.DataFrame(data)\n",
    "\n",
    "df"
   ]
  },
  {
   "cell_type": "code",
   "execution_count": 6,
   "id": "7123039e",
   "metadata": {
    "scrolled": true
   },
   "outputs": [
    {
     "data": {
      "text/plain": [
       "Index(['Car_name', 'BP_USD', 'MP_USD', 'FP_USD', 'Make', 'Segment', 'Min_CC',\n",
       "       'Max_CC', 'Single_CC', 'Min_HP', 'Max_HP', 'No_add_prf', 'FE_KML_MIN',\n",
       "       'FE_KML_MAX', 'TCO_Min', 'TCO_Max', 'YTD', 'YTD LY', 'CHANGE %'],\n",
       "      dtype='object')"
      ]
     },
     "execution_count": 6,
     "metadata": {},
     "output_type": "execute_result"
    }
   ],
   "source": [
    "df.columns"
   ]
  },
  {
   "cell_type": "code",
   "execution_count": 7,
   "id": "3e0dce56",
   "metadata": {},
   "outputs": [
    {
     "name": "stdout",
     "output_type": "stream",
     "text": [
      "<class 'pandas.core.frame.DataFrame'>\n",
      "RangeIndex: 268 entries, 0 to 267\n",
      "Data columns (total 19 columns):\n",
      " #   Column      Non-Null Count  Dtype  \n",
      "---  ------      --------------  -----  \n",
      " 0   Car_name    268 non-null    object \n",
      " 1   BP_USD      268 non-null    int64  \n",
      " 2   MP_USD      268 non-null    int64  \n",
      " 3   FP_USD      268 non-null    int64  \n",
      " 4   Make        268 non-null    object \n",
      " 5   Segment     268 non-null    object \n",
      " 6   Min_CC      268 non-null    int64  \n",
      " 7   Max_CC      268 non-null    int64  \n",
      " 8   Single_CC   199 non-null    float64\n",
      " 9   Min_HP      268 non-null    int64  \n",
      " 10  Max_HP      268 non-null    int64  \n",
      " 11  No_add_prf  168 non-null    float64\n",
      " 12  FE_KML_MIN  267 non-null    float64\n",
      " 13  FE_KML_MAX  267 non-null    float64\n",
      " 14  TCO_Min     268 non-null    int64  \n",
      " 15  TCO_Max     268 non-null    int64  \n",
      " 16  YTD         268 non-null    int64  \n",
      " 17  YTD LY      268 non-null    int64  \n",
      " 18  CHANGE %    268 non-null    float64\n",
      "dtypes: float64(5), int64(11), object(3)\n",
      "memory usage: 39.9+ KB\n"
     ]
    }
   ],
   "source": [
    "df.info()"
   ]
  },
  {
   "cell_type": "code",
   "execution_count": 12,
   "id": "bccb0754",
   "metadata": {},
   "outputs": [],
   "source": [
    "# Identify categorical columns (object or category types)\n",
    "# categorical_columns = df.select_dtypes(include=['Make ', 'Segment']).columns"
   ]
  },
  {
   "cell_type": "code",
   "execution_count": 13,
   "id": "0ab9ed6f",
   "metadata": {},
   "outputs": [
    {
     "name": "stdout",
     "output_type": "stream",
     "text": [
      "     BP_USD  MP_USD  FP_USD  Min_CC  Max_CC  Single_CC  Min_HP  Max_HP  \\\n",
      "0     22500   26000   30000    1600    2000        NaN     150     228   \n",
      "1     20000   23000   27000    1600    2000        NaN     120     252   \n",
      "2     20500   23000   28000    1600    2000        NaN     120     276   \n",
      "3     40000   45000   55000    1800    2000        NaN     160     280   \n",
      "4     30000   35000   40000    1800    2000        NaN     150     300   \n",
      "..      ...     ...     ...     ...     ...        ...     ...     ...   \n",
      "263   30000   35000   40000    4200    4200        1.0     285     285   \n",
      "264  500000  600000  700000    5400    5400        1.0     617     617   \n",
      "265   18000   22000   25000    1800    1800        1.0     120     120   \n",
      "266   28000   32000   37000    3400    3400        1.0     185     185   \n",
      "267   40000   45000   50000    1200    1200        1.0     174     174   \n",
      "\n",
      "     No_add_prf  FE_KML_MIN  ...  Make_Toyota  Make_Volkswagen  Make_Volvo  \\\n",
      "0           NaN        15.0  ...            0                1           0   \n",
      "1           NaN        15.0  ...            0                0           0   \n",
      "2           NaN        14.0  ...            0                0           0   \n",
      "3           NaN         9.0  ...            0                0           0   \n",
      "4           NaN        12.0  ...            0                0           0   \n",
      "..          ...         ...  ...          ...              ...         ...   \n",
      "263         1.0         8.0  ...            0                0           0   \n",
      "264         1.0         7.0  ...            0                0           0   \n",
      "265         1.0        12.0  ...            0                0           0   \n",
      "266         1.0         9.0  ...            0                0           0   \n",
      "267         1.0         NaN  ...            0                0           0   \n",
      "\n",
      "     Segment_A  Segment_B1  Segment_B2  Segment_C1  Segment_C2  Segment_D1  \\\n",
      "0            0           1           0           0           0           0   \n",
      "1            0           1           0           0           0           0   \n",
      "2            0           1           0           0           0           0   \n",
      "3            0           0           0           0           0           0   \n",
      "4            0           1           0           0           0           0   \n",
      "..         ...         ...         ...         ...         ...         ...   \n",
      "263          0           0           0           0           1           0   \n",
      "264          0           0           0           0           0           0   \n",
      "265          0           1           0           0           0           0   \n",
      "266          0           0           0           0           1           0   \n",
      "267          0           0           0           1           0           0   \n",
      "\n",
      "     Segment_D2  \n",
      "0             0  \n",
      "1             0  \n",
      "2             0  \n",
      "3             1  \n",
      "4             0  \n",
      "..          ...  \n",
      "263           0  \n",
      "264           1  \n",
      "265           0  \n",
      "266           0  \n",
      "267           0  \n",
      "\n",
      "[268 rows x 329 columns]\n"
     ]
    }
   ],
   "source": [
    "# Perform one-hot encoding on only the categorical columns\n",
    "df_encoded = pd.get_dummies(df,  drop_first=False) #columns=categorical_columns,\n",
    "\n",
    "print(df_encoded)"
   ]
  },
  {
   "cell_type": "code",
   "execution_count": 19,
   "id": "e462796b",
   "metadata": {},
   "outputs": [
    {
     "name": "stdout",
     "output_type": "stream",
     "text": [
      "<class 'pandas.core.frame.DataFrame'>\n",
      "RangeIndex: 268 entries, 0 to 267\n",
      "Data columns (total 19 columns):\n",
      " #   Column      Non-Null Count  Dtype  \n",
      "---  ------      --------------  -----  \n",
      " 0   Car_name    268 non-null    object \n",
      " 1   BP_USD      268 non-null    int64  \n",
      " 2   MP_USD      268 non-null    int64  \n",
      " 3   FP_USD      268 non-null    int64  \n",
      " 4   Make        268 non-null    object \n",
      " 5   Segment     268 non-null    object \n",
      " 6   Min_CC      268 non-null    int64  \n",
      " 7   Max_CC      268 non-null    int64  \n",
      " 8   Single_CC   199 non-null    float64\n",
      " 9   Min_HP      268 non-null    int64  \n",
      " 10  Max_HP      268 non-null    int64  \n",
      " 11  No_add_prf  168 non-null    float64\n",
      " 12  FE_KML_MIN  267 non-null    float64\n",
      " 13  FE_KML_MAX  267 non-null    float64\n",
      " 14  TCO_Min     268 non-null    int64  \n",
      " 15  TCO_Max     268 non-null    int64  \n",
      " 16  YTD         268 non-null    int64  \n",
      " 17  YTD LY      268 non-null    int64  \n",
      " 18  CHANGE %    268 non-null    float64\n",
      "dtypes: float64(5), int64(11), object(3)\n",
      "memory usage: 39.9+ KB\n"
     ]
    }
   ],
   "source": [
    "df.info()"
   ]
  },
  {
   "cell_type": "code",
   "execution_count": 75,
   "id": "a3be6386",
   "metadata": {},
   "outputs": [
    {
     "data": {
      "text/plain": [
       "Index(['Car_name', 'BP_USD', 'MP_USD', 'FP_USD', 'Make', 'Segment', 'Min_CC',\n",
       "       'Max_CC', 'Single_CC', 'Min_HP', 'Max_HP', 'No_add_prf', 'FE_KML_MIN',\n",
       "       'FE_KML_MAX', 'TCO_Min', 'TCO_Max', 'YTD', 'YTD LY', 'CHANGE %'],\n",
       "      dtype='object')"
      ]
     },
     "execution_count": 75,
     "metadata": {},
     "output_type": "execute_result"
    }
   ],
   "source": [
    "df.columns"
   ]
  },
  {
   "cell_type": "code",
   "execution_count": 21,
   "id": "05d7d0cd",
   "metadata": {},
   "outputs": [],
   "source": [
    "# # Step 1: One-Hot Encoding for categorical features (e.g., 'Car Maker' and 'Segment of car')\n",
    "# X = car_data.drop(columns=['TCO_Max'])  # Drop the target column 'TCO_Max'\n",
    "# y = car_data['TCO_Max']\n",
    "from sklearn.preprocessing import StandardScaler\n",
    "from sklearn.decomposition import PCA\n",
    "from sklearn.model_selection import train_test_split\n",
    "from sklearn.linear_model import LinearRegression\n",
    "from sklearn.metrics import mean_squared_error, r2_score\n"
   ]
  },
  {
   "cell_type": "code",
   "execution_count": 76,
   "id": "700ff653",
   "metadata": {},
   "outputs": [],
   "source": [
    "X = df.iloc[:, [1,2,3,6,7,9,10,14,15]]\n",
    "y = df.iloc[:, [16]]"
   ]
  },
  {
   "cell_type": "code",
   "execution_count": 77,
   "id": "09ab6d80",
   "metadata": {},
   "outputs": [
    {
     "data": {
      "text/html": [
       "<div>\n",
       "<style scoped>\n",
       "    .dataframe tbody tr th:only-of-type {\n",
       "        vertical-align: middle;\n",
       "    }\n",
       "\n",
       "    .dataframe tbody tr th {\n",
       "        vertical-align: top;\n",
       "    }\n",
       "\n",
       "    .dataframe thead th {\n",
       "        text-align: right;\n",
       "    }\n",
       "</style>\n",
       "<table border=\"1\" class=\"dataframe\">\n",
       "  <thead>\n",
       "    <tr style=\"text-align: right;\">\n",
       "      <th></th>\n",
       "      <th>BP_USD</th>\n",
       "      <th>MP_USD</th>\n",
       "      <th>FP_USD</th>\n",
       "      <th>Min_CC</th>\n",
       "      <th>Max_CC</th>\n",
       "      <th>Min_HP</th>\n",
       "      <th>Max_HP</th>\n",
       "      <th>TCO_Min</th>\n",
       "      <th>TCO_Max</th>\n",
       "    </tr>\n",
       "  </thead>\n",
       "  <tbody>\n",
       "    <tr>\n",
       "      <th>0</th>\n",
       "      <td>22500</td>\n",
       "      <td>26000</td>\n",
       "      <td>30000</td>\n",
       "      <td>1600</td>\n",
       "      <td>2000</td>\n",
       "      <td>150</td>\n",
       "      <td>228</td>\n",
       "      <td>4000</td>\n",
       "      <td>6000</td>\n",
       "    </tr>\n",
       "    <tr>\n",
       "      <th>1</th>\n",
       "      <td>20000</td>\n",
       "      <td>23000</td>\n",
       "      <td>27000</td>\n",
       "      <td>1600</td>\n",
       "      <td>2000</td>\n",
       "      <td>120</td>\n",
       "      <td>252</td>\n",
       "      <td>4000</td>\n",
       "      <td>6000</td>\n",
       "    </tr>\n",
       "    <tr>\n",
       "      <th>2</th>\n",
       "      <td>20500</td>\n",
       "      <td>23000</td>\n",
       "      <td>28000</td>\n",
       "      <td>1600</td>\n",
       "      <td>2000</td>\n",
       "      <td>120</td>\n",
       "      <td>276</td>\n",
       "      <td>4000</td>\n",
       "      <td>6000</td>\n",
       "    </tr>\n",
       "    <tr>\n",
       "      <th>3</th>\n",
       "      <td>40000</td>\n",
       "      <td>45000</td>\n",
       "      <td>55000</td>\n",
       "      <td>1800</td>\n",
       "      <td>2000</td>\n",
       "      <td>160</td>\n",
       "      <td>280</td>\n",
       "      <td>7000</td>\n",
       "      <td>9500</td>\n",
       "    </tr>\n",
       "    <tr>\n",
       "      <th>4</th>\n",
       "      <td>30000</td>\n",
       "      <td>35000</td>\n",
       "      <td>40000</td>\n",
       "      <td>1800</td>\n",
       "      <td>2000</td>\n",
       "      <td>150</td>\n",
       "      <td>300</td>\n",
       "      <td>6000</td>\n",
       "      <td>8500</td>\n",
       "    </tr>\n",
       "  </tbody>\n",
       "</table>\n",
       "</div>"
      ],
      "text/plain": [
       "   BP_USD  MP_USD  FP_USD  Min_CC  Max_CC  Min_HP  Max_HP  TCO_Min  TCO_Max\n",
       "0   22500   26000   30000    1600    2000     150     228     4000     6000\n",
       "1   20000   23000   27000    1600    2000     120     252     4000     6000\n",
       "2   20500   23000   28000    1600    2000     120     276     4000     6000\n",
       "3   40000   45000   55000    1800    2000     160     280     7000     9500\n",
       "4   30000   35000   40000    1800    2000     150     300     6000     8500"
      ]
     },
     "execution_count": 77,
     "metadata": {},
     "output_type": "execute_result"
    }
   ],
   "source": [
    "X.head()"
   ]
  },
  {
   "cell_type": "code",
   "execution_count": 78,
   "id": "2555acbe",
   "metadata": {},
   "outputs": [
    {
     "data": {
      "text/html": [
       "<div>\n",
       "<style scoped>\n",
       "    .dataframe tbody tr th:only-of-type {\n",
       "        vertical-align: middle;\n",
       "    }\n",
       "\n",
       "    .dataframe tbody tr th {\n",
       "        vertical-align: top;\n",
       "    }\n",
       "\n",
       "    .dataframe thead th {\n",
       "        text-align: right;\n",
       "    }\n",
       "</style>\n",
       "<table border=\"1\" class=\"dataframe\">\n",
       "  <thead>\n",
       "    <tr style=\"text-align: right;\">\n",
       "      <th></th>\n",
       "      <th>YTD</th>\n",
       "    </tr>\n",
       "  </thead>\n",
       "  <tbody>\n",
       "    <tr>\n",
       "      <th>0</th>\n",
       "      <td>97461</td>\n",
       "    </tr>\n",
       "    <tr>\n",
       "      <th>1</th>\n",
       "      <td>195823</td>\n",
       "    </tr>\n",
       "    <tr>\n",
       "      <th>2</th>\n",
       "      <td>94720</td>\n",
       "    </tr>\n",
       "    <tr>\n",
       "      <th>3</th>\n",
       "      <td>4486</td>\n",
       "    </tr>\n",
       "    <tr>\n",
       "      <th>4</th>\n",
       "      <td>4759</td>\n",
       "    </tr>\n",
       "  </tbody>\n",
       "</table>\n",
       "</div>"
      ],
      "text/plain": [
       "      YTD\n",
       "0   97461\n",
       "1  195823\n",
       "2   94720\n",
       "3    4486\n",
       "4    4759"
      ]
     },
     "execution_count": 78,
     "metadata": {},
     "output_type": "execute_result"
    }
   ],
   "source": [
    "y.head()"
   ]
  },
  {
   "cell_type": "code",
   "execution_count": 79,
   "id": "40e7f5af",
   "metadata": {},
   "outputs": [
    {
     "data": {
      "text/html": [
       "<div>\n",
       "<style scoped>\n",
       "    .dataframe tbody tr th:only-of-type {\n",
       "        vertical-align: middle;\n",
       "    }\n",
       "\n",
       "    .dataframe tbody tr th {\n",
       "        vertical-align: top;\n",
       "    }\n",
       "\n",
       "    .dataframe thead th {\n",
       "        text-align: right;\n",
       "    }\n",
       "</style>\n",
       "<table border=\"1\" class=\"dataframe\">\n",
       "  <thead>\n",
       "    <tr style=\"text-align: right;\">\n",
       "      <th></th>\n",
       "      <th>BP_USD</th>\n",
       "      <th>MP_USD</th>\n",
       "      <th>FP_USD</th>\n",
       "      <th>Min_CC</th>\n",
       "      <th>Max_CC</th>\n",
       "      <th>Min_HP</th>\n",
       "      <th>Max_HP</th>\n",
       "      <th>TCO_Min</th>\n",
       "      <th>TCO_Max</th>\n",
       "    </tr>\n",
       "  </thead>\n",
       "  <tbody>\n",
       "    <tr>\n",
       "      <th>140</th>\n",
       "      <td>18500</td>\n",
       "      <td>21000</td>\n",
       "      <td>25000</td>\n",
       "      <td>1600</td>\n",
       "      <td>1600</td>\n",
       "      <td>132</td>\n",
       "      <td>132</td>\n",
       "      <td>3500</td>\n",
       "      <td>5000</td>\n",
       "    </tr>\n",
       "    <tr>\n",
       "      <th>165</th>\n",
       "      <td>30000</td>\n",
       "      <td>34000</td>\n",
       "      <td>39000</td>\n",
       "      <td>4600</td>\n",
       "      <td>4600</td>\n",
       "      <td>224</td>\n",
       "      <td>224</td>\n",
       "      <td>6000</td>\n",
       "      <td>8000</td>\n",
       "    </tr>\n",
       "    <tr>\n",
       "      <th>249</th>\n",
       "      <td>25000</td>\n",
       "      <td>30000</td>\n",
       "      <td>35000</td>\n",
       "      <td>3500</td>\n",
       "      <td>3500</td>\n",
       "      <td>200</td>\n",
       "      <td>200</td>\n",
       "      <td>6000</td>\n",
       "      <td>8000</td>\n",
       "    </tr>\n",
       "    <tr>\n",
       "      <th>16</th>\n",
       "      <td>40000</td>\n",
       "      <td>45000</td>\n",
       "      <td>50000</td>\n",
       "      <td>2000</td>\n",
       "      <td>2500</td>\n",
       "      <td>160</td>\n",
       "      <td>300</td>\n",
       "      <td>7000</td>\n",
       "      <td>9500</td>\n",
       "    </tr>\n",
       "    <tr>\n",
       "      <th>266</th>\n",
       "      <td>28000</td>\n",
       "      <td>32000</td>\n",
       "      <td>37000</td>\n",
       "      <td>3400</td>\n",
       "      <td>3400</td>\n",
       "      <td>185</td>\n",
       "      <td>185</td>\n",
       "      <td>5500</td>\n",
       "      <td>7500</td>\n",
       "    </tr>\n",
       "  </tbody>\n",
       "</table>\n",
       "</div>"
      ],
      "text/plain": [
       "     BP_USD  MP_USD  FP_USD  Min_CC  Max_CC  Min_HP  Max_HP  TCO_Min  TCO_Max\n",
       "140   18500   21000   25000    1600    1600     132     132     3500     5000\n",
       "165   30000   34000   39000    4600    4600     224     224     6000     8000\n",
       "249   25000   30000   35000    3500    3500     200     200     6000     8000\n",
       "16    40000   45000   50000    2000    2500     160     300     7000     9500\n",
       "266   28000   32000   37000    3400    3400     185     185     5500     7500"
      ]
     },
     "execution_count": 79,
     "metadata": {},
     "output_type": "execute_result"
    }
   ],
   "source": [
    "# Step 4: Split the data into training and testing sets\n",
    "X_train, X_test, y_train, y_test = train_test_split(X, y, test_size=0.2, random_state=42)\n",
    "X_train.head()"
   ]
  },
  {
   "cell_type": "code",
   "execution_count": 80,
   "id": "40135b95",
   "metadata": {},
   "outputs": [],
   "source": [
    "scalar = StandardScaler().fit(X_train)"
   ]
  },
  {
   "cell_type": "code",
   "execution_count": 81,
   "id": "8bb71150",
   "metadata": {},
   "outputs": [
    {
     "name": "stdout",
     "output_type": "stream",
     "text": [
      "StandardScaler()\n"
     ]
    }
   ],
   "source": [
    "print(scalar)"
   ]
  },
  {
   "cell_type": "code",
   "execution_count": 82,
   "id": "51c8d1d2",
   "metadata": {},
   "outputs": [
    {
     "data": {
      "text/plain": [
       "array([38726.63551402, 43995.3271028 , 51960.28037383,  3043.8317757 ,\n",
       "        3323.73831776,   236.17757009,   289.26635514,  6294.39252336,\n",
       "        8654.20560748])"
      ]
     },
     "execution_count": 82,
     "metadata": {},
     "output_type": "execute_result"
    }
   ],
   "source": [
    "scalar.mean_"
   ]
  },
  {
   "cell_type": "code",
   "execution_count": 83,
   "id": "7c2c71cc",
   "metadata": {},
   "outputs": [
    {
     "data": {
      "text/plain": [
       "array([37044.16145665, 43783.79844419, 51554.47678482,  1168.45064349,\n",
       "        1226.80690569,    84.90294768,   128.45570562,  2780.06359692,\n",
       "        3613.58496947])"
      ]
     },
     "execution_count": 83,
     "metadata": {},
     "output_type": "execute_result"
    }
   ],
   "source": [
    "scalar.scale_ #variance"
   ]
  },
  {
   "cell_type": "code",
   "execution_count": 84,
   "id": "4714b421",
   "metadata": {},
   "outputs": [
    {
     "data": {
      "text/plain": [
       "array([[-0.54601413, -0.52520174, -0.52294742, ..., -1.2242847 ,\n",
       "        -1.00515417, -1.01124109],\n",
       "       [-0.23557384, -0.22828826, -0.25139001, ..., -0.50808452,\n",
       "        -0.10589417, -0.1810406 ],\n",
       "       [-0.37054788, -0.31964625, -0.32897784, ..., -0.69491935,\n",
       "        -0.10589417, -0.1810406 ],\n",
       "       ...,\n",
       "       [-0.51901932, -0.50236224, -0.50355046, ..., -0.85061504,\n",
       "        -1.00515417, -0.87287434],\n",
       "       [-0.10059981, -0.11409077, -0.13500826, ..., -0.04878223,\n",
       "        -0.10589417, -0.1810406 ],\n",
       "       [-0.47852711, -0.46810299, -0.46475654, ..., -1.16979121,\n",
       "        -1.00515417, -1.01124109]])"
      ]
     },
     "execution_count": 84,
     "metadata": {},
     "output_type": "execute_result"
    }
   ],
   "source": [
    "scalar.transform(X_train)"
   ]
  },
  {
   "cell_type": "code",
   "execution_count": 85,
   "id": "52b22409",
   "metadata": {},
   "outputs": [],
   "source": [
    "X_train_scale = scalar.transform(X_train)"
   ]
  },
  {
   "cell_type": "code",
   "execution_count": 86,
   "id": "75c0a710",
   "metadata": {},
   "outputs": [
    {
     "name": "stdout",
     "output_type": "stream",
     "text": [
      "[[-0.54601413 -0.52520174 -0.52294742 ... -1.2242847  -1.00515417\n",
      "  -1.01124109]\n",
      " [-0.23557384 -0.22828826 -0.25139001 ... -0.50808452 -0.10589417\n",
      "  -0.1810406 ]\n",
      " [-0.37054788 -0.31964625 -0.32897784 ... -0.69491935 -0.10589417\n",
      "  -0.1810406 ]\n",
      " ...\n",
      " [-0.51901932 -0.50236224 -0.50355046 ... -0.85061504 -1.00515417\n",
      "  -0.87287434]\n",
      " [-0.10059981 -0.11409077 -0.13500826 ... -0.04878223 -0.10589417\n",
      "  -0.1810406 ]\n",
      " [-0.47852711 -0.46810299 -0.46475654 ... -1.16979121 -1.00515417\n",
      "  -1.01124109]]\n"
     ]
    }
   ],
   "source": [
    "print(X_train_scale)"
   ]
  },
  {
   "cell_type": "code",
   "execution_count": 87,
   "id": "9206ff74",
   "metadata": {},
   "outputs": [
    {
     "name": "stdout",
     "output_type": "stream",
     "text": [
      "[-4.90262037e-17 -7.13344233e-17  2.93119630e-17  5.39547638e-17\n",
      " -1.49413192e-16  0.00000000e+00 -1.32811726e-16  1.66014658e-17\n",
      "  9.96087947e-17]\n"
     ]
    }
   ],
   "source": [
    "print(X_train_scale.mean(axis=0))"
   ]
  },
  {
   "cell_type": "code",
   "execution_count": 88,
   "id": "9845d4db",
   "metadata": {},
   "outputs": [
    {
     "name": "stdout",
     "output_type": "stream",
     "text": [
      "[1. 1. 1. 1. 1. 1. 1. 1. 1.]\n"
     ]
    }
   ],
   "source": [
    "print(X_train_scale.std(axis=0))"
   ]
  },
  {
   "cell_type": "code",
   "execution_count": 89,
   "id": "cb922724",
   "metadata": {},
   "outputs": [
    {
     "name": "stdout",
     "output_type": "stream",
     "text": [
      "MinMaxScaler()\n"
     ]
    }
   ],
   "source": [
    "from sklearn.preprocessing import MinMaxScaler\n",
    "scaler_1 = MinMaxScaler().fit(X_train)\n",
    "print(scaler_1)"
   ]
  },
  {
   "cell_type": "code",
   "execution_count": 90,
   "id": "797224d6",
   "metadata": {},
   "outputs": [
    {
     "ename": "AttributeError",
     "evalue": "'MinMaxScaler' object has no attribute 'head'",
     "output_type": "error",
     "traceback": [
      "\u001b[0;31m---------------------------------------------------------------------------\u001b[0m",
      "\u001b[0;31mAttributeError\u001b[0m                            Traceback (most recent call last)",
      "Cell \u001b[0;32mIn[90], line 1\u001b[0m\n\u001b[0;32m----> 1\u001b[0m scaler_1\u001b[38;5;241m.\u001b[39mhead()\n",
      "\u001b[0;31mAttributeError\u001b[0m: 'MinMaxScaler' object has no attribute 'head'"
     ]
    }
   ],
   "source": [
    "scaler_1.head()"
   ]
  },
  {
   "cell_type": "code",
   "execution_count": 91,
   "id": "60a11ea3",
   "metadata": {},
   "outputs": [
    {
     "data": {
      "text/plain": [
       "array([15000., 18000., 20000.,  1000.,  1000.,    71.,    71.,  2500.,\n",
       "        4000.])"
      ]
     },
     "execution_count": 91,
     "metadata": {},
     "output_type": "execute_result"
    }
   ],
   "source": [
    "scaler_1.data_min_"
   ]
  },
  {
   "cell_type": "code",
   "execution_count": 92,
   "id": "c268e4d1",
   "metadata": {},
   "outputs": [
    {
     "data": {
      "text/plain": [
       "array([5.00e+05, 6.00e+05, 7.00e+05, 8.40e+03, 8.40e+03, 6.17e+02,\n",
       "       7.60e+02, 3.00e+04, 4.00e+04])"
      ]
     },
     "execution_count": 92,
     "metadata": {},
     "output_type": "execute_result"
    }
   ],
   "source": [
    "scaler_1.data_max_"
   ]
  },
  {
   "cell_type": "code",
   "execution_count": 93,
   "id": "79df2d9a",
   "metadata": {},
   "outputs": [
    {
     "data": {
      "text/plain": [
       "array([15000., 18000., 20000.,  1000.,  1000.,    71.,    71.,  2500.,\n",
       "        4000.])"
      ]
     },
     "execution_count": 93,
     "metadata": {},
     "output_type": "execute_result"
    }
   ],
   "source": [
    "scaler_1.data_min_"
   ]
  },
  {
   "cell_type": "code",
   "execution_count": 94,
   "id": "2aaa0e07",
   "metadata": {},
   "outputs": [
    {
     "data": {
      "text/html": [
       "<div>\n",
       "<style scoped>\n",
       "    .dataframe tbody tr th:only-of-type {\n",
       "        vertical-align: middle;\n",
       "    }\n",
       "\n",
       "    .dataframe tbody tr th {\n",
       "        vertical-align: top;\n",
       "    }\n",
       "\n",
       "    .dataframe thead th {\n",
       "        text-align: right;\n",
       "    }\n",
       "</style>\n",
       "<table border=\"1\" class=\"dataframe\">\n",
       "  <thead>\n",
       "    <tr style=\"text-align: right;\">\n",
       "      <th></th>\n",
       "      <th>BP_USD</th>\n",
       "      <th>MP_USD</th>\n",
       "      <th>FP_USD</th>\n",
       "      <th>Min_CC</th>\n",
       "      <th>Max_CC</th>\n",
       "      <th>Min_HP</th>\n",
       "      <th>Max_HP</th>\n",
       "      <th>TCO_Min</th>\n",
       "      <th>TCO_Max</th>\n",
       "    </tr>\n",
       "  </thead>\n",
       "  <tbody>\n",
       "    <tr>\n",
       "      <th>count</th>\n",
       "      <td>214.000000</td>\n",
       "      <td>214.000000</td>\n",
       "      <td>214.000000</td>\n",
       "      <td>214.000000</td>\n",
       "      <td>214.000000</td>\n",
       "      <td>214.000000</td>\n",
       "      <td>214.000000</td>\n",
       "      <td>214.000000</td>\n",
       "      <td>214.000000</td>\n",
       "    </tr>\n",
       "    <tr>\n",
       "      <th>mean</th>\n",
       "      <td>38726.635514</td>\n",
       "      <td>43995.327103</td>\n",
       "      <td>51960.280374</td>\n",
       "      <td>3043.831776</td>\n",
       "      <td>3323.738318</td>\n",
       "      <td>236.177570</td>\n",
       "      <td>289.266355</td>\n",
       "      <td>6294.392523</td>\n",
       "      <td>8654.205607</td>\n",
       "    </tr>\n",
       "    <tr>\n",
       "      <th>std</th>\n",
       "      <td>37131.017757</td>\n",
       "      <td>43886.456964</td>\n",
       "      <td>51675.354974</td>\n",
       "      <td>1171.190274</td>\n",
       "      <td>1229.683362</td>\n",
       "      <td>85.102017</td>\n",
       "      <td>128.756892</td>\n",
       "      <td>2786.581926</td>\n",
       "      <td>3622.057630</td>\n",
       "    </tr>\n",
       "    <tr>\n",
       "      <th>min</th>\n",
       "      <td>15000.000000</td>\n",
       "      <td>18000.000000</td>\n",
       "      <td>20000.000000</td>\n",
       "      <td>1000.000000</td>\n",
       "      <td>1000.000000</td>\n",
       "      <td>71.000000</td>\n",
       "      <td>71.000000</td>\n",
       "      <td>2500.000000</td>\n",
       "      <td>4000.000000</td>\n",
       "    </tr>\n",
       "    <tr>\n",
       "      <th>25%</th>\n",
       "      <td>24000.000000</td>\n",
       "      <td>28000.000000</td>\n",
       "      <td>32000.000000</td>\n",
       "      <td>2125.000000</td>\n",
       "      <td>2400.000000</td>\n",
       "      <td>170.000000</td>\n",
       "      <td>200.000000</td>\n",
       "      <td>4500.000000</td>\n",
       "      <td>6500.000000</td>\n",
       "    </tr>\n",
       "    <tr>\n",
       "      <th>50%</th>\n",
       "      <td>30000.000000</td>\n",
       "      <td>35000.000000</td>\n",
       "      <td>42000.000000</td>\n",
       "      <td>2800.000000</td>\n",
       "      <td>3500.000000</td>\n",
       "      <td>212.500000</td>\n",
       "      <td>276.000000</td>\n",
       "      <td>6000.000000</td>\n",
       "      <td>8500.000000</td>\n",
       "    </tr>\n",
       "    <tr>\n",
       "      <th>75%</th>\n",
       "      <td>40000.000000</td>\n",
       "      <td>45000.000000</td>\n",
       "      <td>55000.000000</td>\n",
       "      <td>3600.000000</td>\n",
       "      <td>3800.000000</td>\n",
       "      <td>285.000000</td>\n",
       "      <td>328.750000</td>\n",
       "      <td>7500.000000</td>\n",
       "      <td>9500.000000</td>\n",
       "    </tr>\n",
       "    <tr>\n",
       "      <th>max</th>\n",
       "      <td>500000.000000</td>\n",
       "      <td>600000.000000</td>\n",
       "      <td>700000.000000</td>\n",
       "      <td>8400.000000</td>\n",
       "      <td>8400.000000</td>\n",
       "      <td>617.000000</td>\n",
       "      <td>760.000000</td>\n",
       "      <td>30000.000000</td>\n",
       "      <td>40000.000000</td>\n",
       "    </tr>\n",
       "  </tbody>\n",
       "</table>\n",
       "</div>"
      ],
      "text/plain": [
       "              BP_USD         MP_USD         FP_USD       Min_CC       Max_CC  \\\n",
       "count     214.000000     214.000000     214.000000   214.000000   214.000000   \n",
       "mean    38726.635514   43995.327103   51960.280374  3043.831776  3323.738318   \n",
       "std     37131.017757   43886.456964   51675.354974  1171.190274  1229.683362   \n",
       "min     15000.000000   18000.000000   20000.000000  1000.000000  1000.000000   \n",
       "25%     24000.000000   28000.000000   32000.000000  2125.000000  2400.000000   \n",
       "50%     30000.000000   35000.000000   42000.000000  2800.000000  3500.000000   \n",
       "75%     40000.000000   45000.000000   55000.000000  3600.000000  3800.000000   \n",
       "max    500000.000000  600000.000000  700000.000000  8400.000000  8400.000000   \n",
       "\n",
       "           Min_HP      Max_HP       TCO_Min       TCO_Max  \n",
       "count  214.000000  214.000000    214.000000    214.000000  \n",
       "mean   236.177570  289.266355   6294.392523   8654.205607  \n",
       "std     85.102017  128.756892   2786.581926   3622.057630  \n",
       "min     71.000000   71.000000   2500.000000   4000.000000  \n",
       "25%    170.000000  200.000000   4500.000000   6500.000000  \n",
       "50%    212.500000  276.000000   6000.000000   8500.000000  \n",
       "75%    285.000000  328.750000   7500.000000   9500.000000  \n",
       "max    617.000000  760.000000  30000.000000  40000.000000  "
      ]
     },
     "execution_count": 94,
     "metadata": {},
     "output_type": "execute_result"
    }
   ],
   "source": [
    "X_train.describe()"
   ]
  },
  {
   "cell_type": "code",
   "execution_count": 95,
   "id": "5a65fd42",
   "metadata": {},
   "outputs": [
    {
     "data": {
      "text/plain": [
       "(0, 1)"
      ]
     },
     "execution_count": 95,
     "metadata": {},
     "output_type": "execute_result"
    }
   ],
   "source": [
    "scaler_1.feature_range"
   ]
  },
  {
   "cell_type": "code",
   "execution_count": 96,
   "id": "4efe8081",
   "metadata": {},
   "outputs": [
    {
     "data": {
      "text/plain": [
       "array([[0.00721649, 0.00515464, 0.00735294, ..., 0.08853411, 0.03636364,\n",
       "        0.02777778],\n",
       "       [0.03092784, 0.02749141, 0.02794118, ..., 0.22206096, 0.12727273,\n",
       "        0.11111111],\n",
       "       [0.02061856, 0.02061856, 0.02205882, ..., 0.18722787, 0.12727273,\n",
       "        0.11111111],\n",
       "       ...,\n",
       "       [0.00927835, 0.00687285, 0.00882353, ..., 0.15820029, 0.03636364,\n",
       "        0.04166667],\n",
       "       [0.04123711, 0.03608247, 0.03676471, ..., 0.30769231, 0.12727273,\n",
       "        0.11111111],\n",
       "       [0.01237113, 0.00945017, 0.01176471, ..., 0.09869376, 0.03636364,\n",
       "        0.02777778]])"
      ]
     },
     "execution_count": 96,
     "metadata": {},
     "output_type": "execute_result"
    }
   ],
   "source": [
    "x_train_scaled = scaler_1.transform(X_train\n",
    "                  )\n",
    "x_train_scaled"
   ]
  },
  {
   "cell_type": "code",
   "execution_count": 97,
   "id": "912d2952",
   "metadata": {},
   "outputs": [
    {
     "data": {
      "text/plain": [
       "array([[ 3.09278351e-03,  8.59106529e-04,  2.94117647e-03,\n",
       "         8.10810811e-02,  8.10810811e-02,  9.34065934e-02,\n",
       "         7.40203193e-02,  1.81818182e-02,  1.38888889e-02],\n",
       "       [ 4.12371134e-02,  3.78006873e-02,  3.67647059e-02,\n",
       "         3.37837838e-01,  3.37837838e-01,  4.06593407e-01,\n",
       "         3.22206096e-01,  1.45454545e-01,  1.25000000e-01],\n",
       "       [ 7.21649485e-02,  6.35738832e-02,  6.61764706e-02,\n",
       "         1.89189189e-01,  2.70270270e-01,  3.09523810e-01,\n",
       "         3.68650218e-01,  2.00000000e-01,  1.94444444e-01],\n",
       "       [-1.03092784e-03, -1.71821306e-03,  7.35294118e-04,\n",
       "         8.10810811e-02,  8.10810811e-02,  6.77655678e-02,\n",
       "         5.37010160e-02,  1.81818182e-02,  1.38888889e-02],\n",
       "       [ 9.27835052e-03,  6.87285223e-03,  8.82352941e-03,\n",
       "         6.75675676e-02,  6.75675676e-02,  1.08058608e-01,\n",
       "         8.56313498e-02,  1.81818182e-02,  1.38888889e-02],\n",
       "       [ 1.54639175e-02,  1.28865979e-02,  1.47058824e-02,\n",
       "         2.02702703e-01,  2.02702703e-01,  1.83150183e-01,\n",
       "         1.45137881e-01,  7.27272727e-02,  6.94444444e-02],\n",
       "       [ 1.64948454e-02,  1.54639175e-02,  1.47058824e-02,\n",
       "         3.24324324e-01,  3.24324324e-01,  4.24908425e-01,\n",
       "         3.36719884e-01,  1.09090909e-01,  9.72222222e-02],\n",
       "       [ 2.16494845e-02,  1.80412371e-02,  1.76470588e-02,\n",
       "         2.70270270e-01,  2.70270270e-01,  2.36263736e-01,\n",
       "         1.87227866e-01,  7.27272727e-02,  6.94444444e-02],\n",
       "       [ 8.24742268e-02,  7.21649485e-02,  7.35294118e-02,\n",
       "         1.35135135e-01,  2.70270270e-01,  3.24175824e-01,\n",
       "         7.92452830e-01,  2.00000000e-01,  2.22222222e-01],\n",
       "       [ 3.50515464e-02,  3.43642612e-02,  3.67647059e-02,\n",
       "         3.51351351e-01,  7.29729730e-01,  4.04761905e-01,\n",
       "         9.23076923e-01,  1.45454545e-01,  1.38888889e-01],\n",
       "       [ 5.15463918e-02,  4.63917526e-02,  5.14705882e-02,\n",
       "         3.37837838e-01,  3.37837838e-01,  3.60805861e-01,\n",
       "         2.85921626e-01,  1.63636364e-01,  1.52777778e-01],\n",
       "       [ 3.91752577e-02,  3.43642612e-02,  3.67647059e-02,\n",
       "         3.37837838e-01,  3.37837838e-01,  3.46153846e-01,\n",
       "         2.81567489e-01,  1.27272727e-01,  1.11111111e-01],\n",
       "       [ 2.57731959e-02,  2.23367698e-02,  2.20588235e-02,\n",
       "         2.02702703e-01,  2.02702703e-01,  1.99633700e-01,\n",
       "         2.59796807e-01,  9.09090909e-02,  8.33333333e-02],\n",
       "       [ 1.44329897e-02,  1.20274914e-02,  1.47058824e-02,\n",
       "         1.62162162e-01,  1.62162162e-01,  1.26373626e-01,\n",
       "         1.00145138e-01,  5.45454545e-02,  4.16666667e-02],\n",
       "       [ 8.24742268e-02,  7.21649485e-02,  7.35294118e-02,\n",
       "         1.35135135e-01,  2.70270270e-01,  3.18681319e-01,\n",
       "         3.80261248e-01,  2.00000000e-01,  1.94444444e-01],\n",
       "       [ 4.12371134e-02,  4.63917526e-02,  6.61764706e-02,\n",
       "         2.29729730e-01,  7.70270270e-01,  4.01098901e-01,\n",
       "         5.50072569e-01,  1.81818182e-01,  1.52777778e-01],\n",
       "       [ 9.89690722e-02,  8.59106529e-02,  8.08823529e-02,\n",
       "         5.81081081e-01,  5.81081081e-01,  5.20146520e-01,\n",
       "         4.12191582e-01,  2.18181818e-01,  1.80555556e-01],\n",
       "       [ 5.56701031e-02,  4.98281787e-02,  5.14705882e-02,\n",
       "         3.64864865e-01,  3.64864865e-01,  3.77289377e-01,\n",
       "         2.98984035e-01,  1.63636364e-01,  1.38888889e-01],\n",
       "       [ 4.12371134e-02,  4.63917526e-02,  5.88235294e-02,\n",
       "         3.51351351e-01,  7.02702703e-01,  3.91941392e-01,\n",
       "         5.06531205e-01,  1.81818182e-01,  1.52777778e-01],\n",
       "       [ 5.15463918e-02,  4.63917526e-02,  5.14705882e-02,\n",
       "         4.32432432e-01,  4.32432432e-01,  4.28571429e-01,\n",
       "         3.39622642e-01,  2.00000000e-01,  1.66666667e-01],\n",
       "       [ 4.12371134e-02,  3.78006873e-02,  4.41176471e-02,\n",
       "         1.89189189e-01,  1.89189189e-01,  2.36263736e-01,\n",
       "         3.68650218e-01,  1.45454545e-01,  1.52777778e-01],\n",
       "       [ 2.06185567e-02,  1.71821306e-02,  1.91176471e-02,\n",
       "         1.35135135e-01,  1.89189189e-01,  1.53846154e-01,\n",
       "         2.45283019e-01,  9.09090909e-02,  8.33333333e-02],\n",
       "       [ 6.18556701e-02,  5.49828179e-02,  5.88235294e-02,\n",
       "         2.43243243e-01,  2.43243243e-01,  3.55311355e-01,\n",
       "         5.06531205e-01,  1.81818182e-01,  1.52777778e-01],\n",
       "       [ 6.18556701e-03,  3.43642612e-03,  4.41176471e-03,\n",
       "         1.35135135e-01,  1.35135135e-01,  9.89010989e-02,\n",
       "         7.83744557e-02,  5.45454545e-02,  5.55555556e-02],\n",
       "       [ 4.32989691e-02,  3.78006873e-02,  4.41176471e-02,\n",
       "         3.37837838e-01,  3.37837838e-01,  4.10256410e-01,\n",
       "         3.25108853e-01,  1.27272727e-01,  1.11111111e-01],\n",
       "       [ 8.86597938e-02,  7.73195876e-02,  8.08823529e-02,\n",
       "         1.48648649e-01,  3.37837838e-01,  3.36996337e-01,\n",
       "         6.26995646e-01,  2.18181818e-01,  2.22222222e-01],\n",
       "       [ 4.12371134e-02,  3.78006873e-02,  3.67647059e-02,\n",
       "         3.37837838e-01,  3.37837838e-01,  3.97435897e-01,\n",
       "         3.14949202e-01,  1.45454545e-01,  1.25000000e-01],\n",
       "       [ 3.09278351e-02,  2.92096220e-02,  3.23529412e-02,\n",
       "         1.89189189e-01,  3.51351351e-01,  2.25274725e-01,\n",
       "         3.39622642e-01,  1.09090909e-01,  9.72222222e-02],\n",
       "       [ 8.24742268e-02,  7.21649485e-02,  7.35294118e-02,\n",
       "         4.86486486e-01,  4.86486486e-01,  4.21245421e-01,\n",
       "         3.33817126e-01,  2.00000000e-01,  1.94444444e-01],\n",
       "       [ 4.12371134e-02,  3.78006873e-02,  4.41176471e-02,\n",
       "         3.37837838e-01,  3.37837838e-01,  3.64468864e-01,\n",
       "         2.88824383e-01,  1.27272727e-01,  1.11111111e-01],\n",
       "       [ 3.50515464e-02,  2.92096220e-02,  2.94117647e-02,\n",
       "         2.02702703e-01,  3.51351351e-01,  2.30769231e-01,\n",
       "         3.39622642e-01,  1.09090909e-01,  1.11111111e-01],\n",
       "       [ 3.91752577e-02,  3.43642612e-02,  3.67647059e-02,\n",
       "         3.37837838e-01,  3.37837838e-01,  4.19413919e-01,\n",
       "         3.32365747e-01,  1.27272727e-01,  1.25000000e-01],\n",
       "       [ 5.15463918e-02,  4.63917526e-02,  5.14705882e-02,\n",
       "         1.08108108e-01,  1.35135135e-01,  2.17948718e-01,\n",
       "         3.61393324e-01,  1.45454545e-01,  1.38888889e-01],\n",
       "       [ 9.27835052e-02,  8.07560137e-02,  8.08823529e-02,\n",
       "         6.75675676e-01,  6.75675676e-01,  5.89743590e-01,\n",
       "         4.67343977e-01,  2.72727273e-01,  2.36111111e-01],\n",
       "       [ 4.94845361e-02,  4.46735395e-02,  4.70588235e-02,\n",
       "         6.21621622e-01,  6.21621622e-01,  5.84249084e-01,\n",
       "         4.62989840e-01,  1.81818182e-01,  1.66666667e-01],\n",
       "       [ 3.09278351e-02,  2.92096220e-02,  2.94117647e-02,\n",
       "         4.05405405e-02,  4.05405405e-02,  2.94871795e-01,\n",
       "         2.88824383e-01,  1.63636364e-01,  1.52777778e-01],\n",
       "       [ 4.12371134e-02,  3.78006873e-02,  4.41176471e-02,\n",
       "         3.37837838e-01,  3.37837838e-01,  4.01098901e-01,\n",
       "         3.17851959e-01,  1.45454545e-01,  1.25000000e-01],\n",
       "       [ 6.18556701e-02,  5.49828179e-02,  5.88235294e-02,\n",
       "         1.35135135e-01,  2.70270270e-01,  2.17948718e-01,\n",
       "         3.80261248e-01,  1.63636364e-01,  1.66666667e-01],\n",
       "       [ 1.34020619e-02,  1.03092784e-02,  1.10294118e-02,\n",
       "         1.89189189e-01,  1.89189189e-01,  1.66666667e-01,\n",
       "         1.32075472e-01,  7.27272727e-02,  6.94444444e-02],\n",
       "       [ 3.60824742e-02,  3.26460481e-02,  3.67647059e-02,\n",
       "         3.51351351e-01,  3.51351351e-01,  4.04761905e-01,\n",
       "         3.20754717e-01,  1.27272727e-01,  1.11111111e-01],\n",
       "       [ 2.06185567e-02,  1.71821306e-02,  1.91176471e-02,\n",
       "         1.89189189e-01,  2.02702703e-01,  1.77655678e-01,\n",
       "         1.40783745e-01,  9.09090909e-02,  8.33333333e-02],\n",
       "       [ 1.54639175e-01,  1.58075601e-01,  1.91176471e-01,\n",
       "         2.70270270e-01,  2.70270270e-01,  5.47619048e-01,\n",
       "         8.25834543e-01,  3.45454545e-01,  3.05555556e-01],\n",
       "       [ 4.12371134e-02,  3.78006873e-02,  3.97058824e-02,\n",
       "         3.37837838e-01,  3.37837838e-01,  3.51648352e-01,\n",
       "         2.78664731e-01,  1.09090909e-01,  9.72222222e-02],\n",
       "       [ 4.12371134e-02,  3.78006873e-02,  3.67647059e-02,\n",
       "         3.51351351e-01,  3.51351351e-01,  3.95604396e-01,\n",
       "         3.13497823e-01,  1.45454545e-01,  1.25000000e-01],\n",
       "       [ 1.64948454e-02,  1.46048110e-02,  1.76470588e-02,\n",
       "         1.89189189e-01,  1.89189189e-01,  1.84981685e-01,\n",
       "         1.46589260e-01,  7.27272727e-02,  6.94444444e-02],\n",
       "       [ 8.24742268e-02,  7.21649485e-02,  7.35294118e-02,\n",
       "         5.81081081e-01,  5.81081081e-01,  5.20146520e-01,\n",
       "         5.06531205e-01,  1.81818182e-01,  1.66666667e-01],\n",
       "       [ 1.03092784e-02,  7.73195876e-03,  8.82352941e-03,\n",
       "         1.89189189e-01,  1.89189189e-01,  1.99633700e-01,\n",
       "         1.58200290e-01,  3.63636364e-02,  4.16666667e-02],\n",
       "       [ 2.16494845e-02,  1.80412371e-02,  2.20588235e-02,\n",
       "         1.89189189e-01,  2.02702703e-01,  2.19780220e-01,\n",
       "         3.17851959e-01,  5.45454545e-02,  5.55555556e-02],\n",
       "       [ 2.06185567e-02,  2.06185567e-02,  2.20588235e-02,\n",
       "         4.32432432e-01,  4.32432432e-01,  3.91941392e-01,\n",
       "         3.10595065e-01,  1.09090909e-01,  9.72222222e-02],\n",
       "       [ 3.09278351e-02,  3.78006873e-02,  5.14705882e-02,\n",
       "         3.51351351e-01,  6.35135135e-01,  4.28571429e-01,\n",
       "         4.77503628e-01,  1.63636364e-01,  1.66666667e-01],\n",
       "       [ 2.68041237e-02,  2.40549828e-02,  2.64705882e-02,\n",
       "         3.78378378e-01,  3.78378378e-01,  2.82051282e-01,\n",
       "         2.23512337e-01,  9.09090909e-02,  9.72222222e-02],\n",
       "       [ 2.06185567e-02,  2.06185567e-02,  2.20588235e-02,\n",
       "         3.64864865e-01,  3.64864865e-01,  2.91208791e-01,\n",
       "         2.30769231e-01,  1.09090909e-01,  9.72222222e-02],\n",
       "       [ 2.68041237e-02,  2.74914089e-02,  3.38235294e-02,\n",
       "         2.29729730e-01,  3.37837838e-01,  1.61172161e-01,\n",
       "         3.00435414e-01,  1.27272727e-01,  1.11111111e-01],\n",
       "       [ 6.18556701e-02,  5.49828179e-02,  5.88235294e-02,\n",
       "         3.37837838e-01,  3.37837838e-01,  4.19413919e-01,\n",
       "         3.32365747e-01,  1.81818182e-01,  1.66666667e-01]])"
      ]
     },
     "execution_count": 97,
     "metadata": {},
     "output_type": "execute_result"
    }
   ],
   "source": [
    "x_test_scaled = scaler_1.transform(X_test\n",
    "                  )\n",
    "x_test_scaled"
   ]
  },
  {
   "cell_type": "code",
   "execution_count": 98,
   "id": "83eaf9ba",
   "metadata": {},
   "outputs": [],
   "source": [
    "from sklearn.linear_model import LinearRegression\n",
    "reg= LinearRegression().fit(X_train,y_train)"
   ]
  },
  {
   "cell_type": "code",
   "execution_count": 99,
   "id": "b17832f8",
   "metadata": {},
   "outputs": [
    {
     "data": {
      "text/plain": [
       "0.45723029534380855"
      ]
     },
     "execution_count": 99,
     "metadata": {},
     "output_type": "execute_result"
    }
   ],
   "source": [
    "reg.score(X_test, y_test)"
   ]
  },
  {
   "cell_type": "code",
   "execution_count": 100,
   "id": "4a17654e",
   "metadata": {},
   "outputs": [
    {
     "data": {
      "text/plain": [
       "0.1946665647083583"
      ]
     },
     "execution_count": 100,
     "metadata": {},
     "output_type": "execute_result"
    }
   ],
   "source": [
    "reg.score(X_train, y_train)"
   ]
  },
  {
   "cell_type": "code",
   "execution_count": 101,
   "id": "a2feea83",
   "metadata": {},
   "outputs": [
    {
     "name": "stderr",
     "output_type": "stream",
     "text": [
      "/Applications/CodeBase/anaconda3/lib/python3.11/site-packages/sklearn/linear_model/_coordinate_descent.py:628: ConvergenceWarning: Objective did not converge. You might want to increase the number of iterations, check the scale of the features or consider increasing regularisation. Duality gap: 4.118e+11, tolerance: 1.016e+11\n",
      "  model = cd_fast.enet_coordinate_descent(\n"
     ]
    },
    {
     "data": {
      "text/html": [
       "<style>#sk-container-id-4 {color: black;}#sk-container-id-4 pre{padding: 0;}#sk-container-id-4 div.sk-toggleable {background-color: white;}#sk-container-id-4 label.sk-toggleable__label {cursor: pointer;display: block;width: 100%;margin-bottom: 0;padding: 0.3em;box-sizing: border-box;text-align: center;}#sk-container-id-4 label.sk-toggleable__label-arrow:before {content: \"▸\";float: left;margin-right: 0.25em;color: #696969;}#sk-container-id-4 label.sk-toggleable__label-arrow:hover:before {color: black;}#sk-container-id-4 div.sk-estimator:hover label.sk-toggleable__label-arrow:before {color: black;}#sk-container-id-4 div.sk-toggleable__content {max-height: 0;max-width: 0;overflow: hidden;text-align: left;background-color: #f0f8ff;}#sk-container-id-4 div.sk-toggleable__content pre {margin: 0.2em;color: black;border-radius: 0.25em;background-color: #f0f8ff;}#sk-container-id-4 input.sk-toggleable__control:checked~div.sk-toggleable__content {max-height: 200px;max-width: 100%;overflow: auto;}#sk-container-id-4 input.sk-toggleable__control:checked~label.sk-toggleable__label-arrow:before {content: \"▾\";}#sk-container-id-4 div.sk-estimator input.sk-toggleable__control:checked~label.sk-toggleable__label {background-color: #d4ebff;}#sk-container-id-4 div.sk-label input.sk-toggleable__control:checked~label.sk-toggleable__label {background-color: #d4ebff;}#sk-container-id-4 input.sk-hidden--visually {border: 0;clip: rect(1px 1px 1px 1px);clip: rect(1px, 1px, 1px, 1px);height: 1px;margin: -1px;overflow: hidden;padding: 0;position: absolute;width: 1px;}#sk-container-id-4 div.sk-estimator {font-family: monospace;background-color: #f0f8ff;border: 1px dotted black;border-radius: 0.25em;box-sizing: border-box;margin-bottom: 0.5em;}#sk-container-id-4 div.sk-estimator:hover {background-color: #d4ebff;}#sk-container-id-4 div.sk-parallel-item::after {content: \"\";width: 100%;border-bottom: 1px solid gray;flex-grow: 1;}#sk-container-id-4 div.sk-label:hover label.sk-toggleable__label {background-color: #d4ebff;}#sk-container-id-4 div.sk-serial::before {content: \"\";position: absolute;border-left: 1px solid gray;box-sizing: border-box;top: 0;bottom: 0;left: 50%;z-index: 0;}#sk-container-id-4 div.sk-serial {display: flex;flex-direction: column;align-items: center;background-color: white;padding-right: 0.2em;padding-left: 0.2em;position: relative;}#sk-container-id-4 div.sk-item {position: relative;z-index: 1;}#sk-container-id-4 div.sk-parallel {display: flex;align-items: stretch;justify-content: center;background-color: white;position: relative;}#sk-container-id-4 div.sk-item::before, #sk-container-id-4 div.sk-parallel-item::before {content: \"\";position: absolute;border-left: 1px solid gray;box-sizing: border-box;top: 0;bottom: 0;left: 50%;z-index: -1;}#sk-container-id-4 div.sk-parallel-item {display: flex;flex-direction: column;z-index: 1;position: relative;background-color: white;}#sk-container-id-4 div.sk-parallel-item:first-child::after {align-self: flex-end;width: 50%;}#sk-container-id-4 div.sk-parallel-item:last-child::after {align-self: flex-start;width: 50%;}#sk-container-id-4 div.sk-parallel-item:only-child::after {width: 0;}#sk-container-id-4 div.sk-dashed-wrapped {border: 1px dashed gray;margin: 0 0.4em 0.5em 0.4em;box-sizing: border-box;padding-bottom: 0.4em;background-color: white;}#sk-container-id-4 div.sk-label label {font-family: monospace;font-weight: bold;display: inline-block;line-height: 1.2em;}#sk-container-id-4 div.sk-label-container {text-align: center;}#sk-container-id-4 div.sk-container {/* jupyter's `normalize.less` sets `[hidden] { display: none; }` but bootstrap.min.css set `[hidden] { display: none !important; }` so we also need the `!important` here to be able to override the default hidden behavior on the sphinx rendered scikit-learn.org. See: https://github.com/scikit-learn/scikit-learn/issues/21755 */display: inline-block !important;position: relative;}#sk-container-id-4 div.sk-text-repr-fallback {display: none;}</style><div id=\"sk-container-id-4\" class=\"sk-top-container\"><div class=\"sk-text-repr-fallback\"><pre>Lasso(alpha=200, max_iter=100, tol=0.1)</pre><b>In a Jupyter environment, please rerun this cell to show the HTML representation or trust the notebook. <br />On GitHub, the HTML representation is unable to render, please try loading this page with nbviewer.org.</b></div><div class=\"sk-container\" hidden><div class=\"sk-item\"><div class=\"sk-estimator sk-toggleable\"><input class=\"sk-toggleable__control sk-hidden--visually\" id=\"sk-estimator-id-4\" type=\"checkbox\" checked><label for=\"sk-estimator-id-4\" class=\"sk-toggleable__label sk-toggleable__label-arrow\">Lasso</label><div class=\"sk-toggleable__content\"><pre>Lasso(alpha=200, max_iter=100, tol=0.1)</pre></div></div></div></div></div>"
      ],
      "text/plain": [
       "Lasso(alpha=200, max_iter=100, tol=0.1)"
      ]
     },
     "execution_count": 101,
     "metadata": {},
     "output_type": "execute_result"
    }
   ],
   "source": [
    "from sklearn import linear_model\n",
    "lasso_reg = linear_model.Lasso(alpha=200, max_iter=100, tol = 0.1)\n",
    "lasso_reg.fit(X_train,y_train)"
   ]
  },
  {
   "cell_type": "code",
   "execution_count": 102,
   "id": "5279be24",
   "metadata": {},
   "outputs": [
    {
     "data": {
      "text/plain": [
       "0.45723029534380855"
      ]
     },
     "execution_count": 102,
     "metadata": {},
     "output_type": "execute_result"
    }
   ],
   "source": [
    "reg.score(X_test, y_test)"
   ]
  },
  {
   "cell_type": "code",
   "execution_count": 103,
   "id": "791954ed",
   "metadata": {},
   "outputs": [
    {
     "data": {
      "text/plain": [
       "0.1946665647083583"
      ]
     },
     "execution_count": 103,
     "metadata": {},
     "output_type": "execute_result"
    }
   ],
   "source": [
    "reg.score(X_train, y_train)"
   ]
  },
  {
   "cell_type": "code",
   "execution_count": 104,
   "id": "0cd48616",
   "metadata": {},
   "outputs": [
    {
     "data": {
      "text/html": [
       "<style>#sk-container-id-5 {color: black;}#sk-container-id-5 pre{padding: 0;}#sk-container-id-5 div.sk-toggleable {background-color: white;}#sk-container-id-5 label.sk-toggleable__label {cursor: pointer;display: block;width: 100%;margin-bottom: 0;padding: 0.3em;box-sizing: border-box;text-align: center;}#sk-container-id-5 label.sk-toggleable__label-arrow:before {content: \"▸\";float: left;margin-right: 0.25em;color: #696969;}#sk-container-id-5 label.sk-toggleable__label-arrow:hover:before {color: black;}#sk-container-id-5 div.sk-estimator:hover label.sk-toggleable__label-arrow:before {color: black;}#sk-container-id-5 div.sk-toggleable__content {max-height: 0;max-width: 0;overflow: hidden;text-align: left;background-color: #f0f8ff;}#sk-container-id-5 div.sk-toggleable__content pre {margin: 0.2em;color: black;border-radius: 0.25em;background-color: #f0f8ff;}#sk-container-id-5 input.sk-toggleable__control:checked~div.sk-toggleable__content {max-height: 200px;max-width: 100%;overflow: auto;}#sk-container-id-5 input.sk-toggleable__control:checked~label.sk-toggleable__label-arrow:before {content: \"▾\";}#sk-container-id-5 div.sk-estimator input.sk-toggleable__control:checked~label.sk-toggleable__label {background-color: #d4ebff;}#sk-container-id-5 div.sk-label input.sk-toggleable__control:checked~label.sk-toggleable__label {background-color: #d4ebff;}#sk-container-id-5 input.sk-hidden--visually {border: 0;clip: rect(1px 1px 1px 1px);clip: rect(1px, 1px, 1px, 1px);height: 1px;margin: -1px;overflow: hidden;padding: 0;position: absolute;width: 1px;}#sk-container-id-5 div.sk-estimator {font-family: monospace;background-color: #f0f8ff;border: 1px dotted black;border-radius: 0.25em;box-sizing: border-box;margin-bottom: 0.5em;}#sk-container-id-5 div.sk-estimator:hover {background-color: #d4ebff;}#sk-container-id-5 div.sk-parallel-item::after {content: \"\";width: 100%;border-bottom: 1px solid gray;flex-grow: 1;}#sk-container-id-5 div.sk-label:hover label.sk-toggleable__label {background-color: #d4ebff;}#sk-container-id-5 div.sk-serial::before {content: \"\";position: absolute;border-left: 1px solid gray;box-sizing: border-box;top: 0;bottom: 0;left: 50%;z-index: 0;}#sk-container-id-5 div.sk-serial {display: flex;flex-direction: column;align-items: center;background-color: white;padding-right: 0.2em;padding-left: 0.2em;position: relative;}#sk-container-id-5 div.sk-item {position: relative;z-index: 1;}#sk-container-id-5 div.sk-parallel {display: flex;align-items: stretch;justify-content: center;background-color: white;position: relative;}#sk-container-id-5 div.sk-item::before, #sk-container-id-5 div.sk-parallel-item::before {content: \"\";position: absolute;border-left: 1px solid gray;box-sizing: border-box;top: 0;bottom: 0;left: 50%;z-index: -1;}#sk-container-id-5 div.sk-parallel-item {display: flex;flex-direction: column;z-index: 1;position: relative;background-color: white;}#sk-container-id-5 div.sk-parallel-item:first-child::after {align-self: flex-end;width: 50%;}#sk-container-id-5 div.sk-parallel-item:last-child::after {align-self: flex-start;width: 50%;}#sk-container-id-5 div.sk-parallel-item:only-child::after {width: 0;}#sk-container-id-5 div.sk-dashed-wrapped {border: 1px dashed gray;margin: 0 0.4em 0.5em 0.4em;box-sizing: border-box;padding-bottom: 0.4em;background-color: white;}#sk-container-id-5 div.sk-label label {font-family: monospace;font-weight: bold;display: inline-block;line-height: 1.2em;}#sk-container-id-5 div.sk-label-container {text-align: center;}#sk-container-id-5 div.sk-container {/* jupyter's `normalize.less` sets `[hidden] { display: none; }` but bootstrap.min.css set `[hidden] { display: none !important; }` so we also need the `!important` here to be able to override the default hidden behavior on the sphinx rendered scikit-learn.org. See: https://github.com/scikit-learn/scikit-learn/issues/21755 */display: inline-block !important;position: relative;}#sk-container-id-5 div.sk-text-repr-fallback {display: none;}</style><div id=\"sk-container-id-5\" class=\"sk-top-container\"><div class=\"sk-text-repr-fallback\"><pre>Ridge(alpha=200, max_iter=100, tol=0.1)</pre><b>In a Jupyter environment, please rerun this cell to show the HTML representation or trust the notebook. <br />On GitHub, the HTML representation is unable to render, please try loading this page with nbviewer.org.</b></div><div class=\"sk-container\" hidden><div class=\"sk-item\"><div class=\"sk-estimator sk-toggleable\"><input class=\"sk-toggleable__control sk-hidden--visually\" id=\"sk-estimator-id-5\" type=\"checkbox\" checked><label for=\"sk-estimator-id-5\" class=\"sk-toggleable__label sk-toggleable__label-arrow\">Ridge</label><div class=\"sk-toggleable__content\"><pre>Ridge(alpha=200, max_iter=100, tol=0.1)</pre></div></div></div></div></div>"
      ],
      "text/plain": [
       "Ridge(alpha=200, max_iter=100, tol=0.1)"
      ]
     },
     "execution_count": 104,
     "metadata": {},
     "output_type": "execute_result"
    }
   ],
   "source": [
    "from sklearn.linear_model import Ridge\n",
    "ridge_reg = Ridge(alpha=200, max_iter=100, tol = 0.1)\n",
    "ridge_reg.fit(X_train,y_train)"
   ]
  },
  {
   "cell_type": "code",
   "execution_count": 105,
   "id": "634710ca",
   "metadata": {},
   "outputs": [
    {
     "data": {
      "text/plain": [
       "0.45723029534380855"
      ]
     },
     "execution_count": 105,
     "metadata": {},
     "output_type": "execute_result"
    }
   ],
   "source": [
    "reg.score(X_test, y_test)"
   ]
  },
  {
   "cell_type": "code",
   "execution_count": 106,
   "id": "68163b84",
   "metadata": {},
   "outputs": [
    {
     "data": {
      "text/plain": [
       "0.1946665647083583"
      ]
     },
     "execution_count": 106,
     "metadata": {},
     "output_type": "execute_result"
    }
   ],
   "source": [
    "reg.score(X_train, y_train)"
   ]
  },
  {
   "cell_type": "markdown",
   "id": "c5c8b117",
   "metadata": {},
   "source": [
    "# CREATE KNN"
   ]
  },
  {
   "cell_type": "code",
   "execution_count": 122,
   "id": "5eb1db2d",
   "metadata": {},
   "outputs": [
    {
     "name": "stderr",
     "output_type": "stream",
     "text": [
      "/Applications/CodeBase/anaconda3/lib/python3.11/site-packages/sklearn/neighbors/_classification.py:228: DataConversionWarning: A column-vector y was passed when a 1d array was expected. Please change the shape of y to (n_samples,), for example using ravel().\n",
      "  return self._fit(X, y)\n"
     ]
    },
    {
     "data": {
      "text/html": [
       "<style>#sk-container-id-14 {color: black;}#sk-container-id-14 pre{padding: 0;}#sk-container-id-14 div.sk-toggleable {background-color: white;}#sk-container-id-14 label.sk-toggleable__label {cursor: pointer;display: block;width: 100%;margin-bottom: 0;padding: 0.3em;box-sizing: border-box;text-align: center;}#sk-container-id-14 label.sk-toggleable__label-arrow:before {content: \"▸\";float: left;margin-right: 0.25em;color: #696969;}#sk-container-id-14 label.sk-toggleable__label-arrow:hover:before {color: black;}#sk-container-id-14 div.sk-estimator:hover label.sk-toggleable__label-arrow:before {color: black;}#sk-container-id-14 div.sk-toggleable__content {max-height: 0;max-width: 0;overflow: hidden;text-align: left;background-color: #f0f8ff;}#sk-container-id-14 div.sk-toggleable__content pre {margin: 0.2em;color: black;border-radius: 0.25em;background-color: #f0f8ff;}#sk-container-id-14 input.sk-toggleable__control:checked~div.sk-toggleable__content {max-height: 200px;max-width: 100%;overflow: auto;}#sk-container-id-14 input.sk-toggleable__control:checked~label.sk-toggleable__label-arrow:before {content: \"▾\";}#sk-container-id-14 div.sk-estimator input.sk-toggleable__control:checked~label.sk-toggleable__label {background-color: #d4ebff;}#sk-container-id-14 div.sk-label input.sk-toggleable__control:checked~label.sk-toggleable__label {background-color: #d4ebff;}#sk-container-id-14 input.sk-hidden--visually {border: 0;clip: rect(1px 1px 1px 1px);clip: rect(1px, 1px, 1px, 1px);height: 1px;margin: -1px;overflow: hidden;padding: 0;position: absolute;width: 1px;}#sk-container-id-14 div.sk-estimator {font-family: monospace;background-color: #f0f8ff;border: 1px dotted black;border-radius: 0.25em;box-sizing: border-box;margin-bottom: 0.5em;}#sk-container-id-14 div.sk-estimator:hover {background-color: #d4ebff;}#sk-container-id-14 div.sk-parallel-item::after {content: \"\";width: 100%;border-bottom: 1px solid gray;flex-grow: 1;}#sk-container-id-14 div.sk-label:hover label.sk-toggleable__label {background-color: #d4ebff;}#sk-container-id-14 div.sk-serial::before {content: \"\";position: absolute;border-left: 1px solid gray;box-sizing: border-box;top: 0;bottom: 0;left: 50%;z-index: 0;}#sk-container-id-14 div.sk-serial {display: flex;flex-direction: column;align-items: center;background-color: white;padding-right: 0.2em;padding-left: 0.2em;position: relative;}#sk-container-id-14 div.sk-item {position: relative;z-index: 1;}#sk-container-id-14 div.sk-parallel {display: flex;align-items: stretch;justify-content: center;background-color: white;position: relative;}#sk-container-id-14 div.sk-item::before, #sk-container-id-14 div.sk-parallel-item::before {content: \"\";position: absolute;border-left: 1px solid gray;box-sizing: border-box;top: 0;bottom: 0;left: 50%;z-index: -1;}#sk-container-id-14 div.sk-parallel-item {display: flex;flex-direction: column;z-index: 1;position: relative;background-color: white;}#sk-container-id-14 div.sk-parallel-item:first-child::after {align-self: flex-end;width: 50%;}#sk-container-id-14 div.sk-parallel-item:last-child::after {align-self: flex-start;width: 50%;}#sk-container-id-14 div.sk-parallel-item:only-child::after {width: 0;}#sk-container-id-14 div.sk-dashed-wrapped {border: 1px dashed gray;margin: 0 0.4em 0.5em 0.4em;box-sizing: border-box;padding-bottom: 0.4em;background-color: white;}#sk-container-id-14 div.sk-label label {font-family: monospace;font-weight: bold;display: inline-block;line-height: 1.2em;}#sk-container-id-14 div.sk-label-container {text-align: center;}#sk-container-id-14 div.sk-container {/* jupyter's `normalize.less` sets `[hidden] { display: none; }` but bootstrap.min.css set `[hidden] { display: none !important; }` so we also need the `!important` here to be able to override the default hidden behavior on the sphinx rendered scikit-learn.org. See: https://github.com/scikit-learn/scikit-learn/issues/21755 */display: inline-block !important;position: relative;}#sk-container-id-14 div.sk-text-repr-fallback {display: none;}</style><div id=\"sk-container-id-14\" class=\"sk-top-container\"><div class=\"sk-text-repr-fallback\"><pre>KNeighborsClassifier(n_neighbors=2)</pre><b>In a Jupyter environment, please rerun this cell to show the HTML representation or trust the notebook. <br />On GitHub, the HTML representation is unable to render, please try loading this page with nbviewer.org.</b></div><div class=\"sk-container\" hidden><div class=\"sk-item\"><div class=\"sk-estimator sk-toggleable\"><input class=\"sk-toggleable__control sk-hidden--visually\" id=\"sk-estimator-id-14\" type=\"checkbox\" checked><label for=\"sk-estimator-id-14\" class=\"sk-toggleable__label sk-toggleable__label-arrow\">KNeighborsClassifier</label><div class=\"sk-toggleable__content\"><pre>KNeighborsClassifier(n_neighbors=2)</pre></div></div></div></div></div>"
      ],
      "text/plain": [
       "KNeighborsClassifier(n_neighbors=2)"
      ]
     },
     "execution_count": 122,
     "metadata": {},
     "output_type": "execute_result"
    }
   ],
   "source": [
    "from sklearn.neighbors import KNeighborsClassifier\n",
    "\n",
    "knn = KNeighborsClassifier(n_neighbors=2)\n",
    "knn.fit(X_train,y_train)\n",
    "\n",
    "# knn.score(X_test,y_test)"
   ]
  },
  {
   "cell_type": "code",
   "execution_count": 123,
   "id": "4c9e916c",
   "metadata": {},
   "outputs": [
    {
     "data": {
      "text/plain": [
       "0.018518518518518517"
      ]
     },
     "execution_count": 123,
     "metadata": {},
     "output_type": "execute_result"
    }
   ],
   "source": [
    "knn.score(X_test,y_test)"
   ]
  },
  {
   "cell_type": "code",
   "execution_count": 125,
   "id": "0bb68405",
   "metadata": {},
   "outputs": [
    {
     "data": {
      "text/plain": [
       "<bound method DataFrame.info of      BP_USD  MP_USD  FP_USD  Min_CC  Max_CC  Single_CC  Min_HP  Max_HP  \\\n",
       "0     22500   26000   30000    1600    2000        NaN     150     228   \n",
       "1     20000   23000   27000    1600    2000        NaN     120     252   \n",
       "2     20500   23000   28000    1600    2000        NaN     120     276   \n",
       "3     40000   45000   55000    1800    2000        NaN     160     280   \n",
       "4     30000   35000   40000    1800    2000        NaN     150     300   \n",
       "..      ...     ...     ...     ...     ...        ...     ...     ...   \n",
       "263   30000   35000   40000    4200    4200        1.0     285     285   \n",
       "264  500000  600000  700000    5400    5400        1.0     617     617   \n",
       "265   18000   22000   25000    1800    1800        1.0     120     120   \n",
       "266   28000   32000   37000    3400    3400        1.0     185     185   \n",
       "267   40000   45000   50000    1200    1200        1.0     174     174   \n",
       "\n",
       "     No_add_prf  FE_KML_MIN  ...  Make_Toyota  Make_Volkswagen  Make_Volvo  \\\n",
       "0           NaN        15.0  ...            0                1           0   \n",
       "1           NaN        15.0  ...            0                0           0   \n",
       "2           NaN        14.0  ...            0                0           0   \n",
       "3           NaN         9.0  ...            0                0           0   \n",
       "4           NaN        12.0  ...            0                0           0   \n",
       "..          ...         ...  ...          ...              ...         ...   \n",
       "263         1.0         8.0  ...            0                0           0   \n",
       "264         1.0         7.0  ...            0                0           0   \n",
       "265         1.0        12.0  ...            0                0           0   \n",
       "266         1.0         9.0  ...            0                0           0   \n",
       "267         1.0         NaN  ...            0                0           0   \n",
       "\n",
       "     Segment_A  Segment_B1  Segment_B2  Segment_C1  Segment_C2  Segment_D1  \\\n",
       "0            0           1           0           0           0           0   \n",
       "1            0           1           0           0           0           0   \n",
       "2            0           1           0           0           0           0   \n",
       "3            0           0           0           0           0           0   \n",
       "4            0           1           0           0           0           0   \n",
       "..         ...         ...         ...         ...         ...         ...   \n",
       "263          0           0           0           0           1           0   \n",
       "264          0           0           0           0           0           0   \n",
       "265          0           1           0           0           0           0   \n",
       "266          0           0           0           0           1           0   \n",
       "267          0           0           0           1           0           0   \n",
       "\n",
       "     Segment_D2  \n",
       "0             0  \n",
       "1             0  \n",
       "2             0  \n",
       "3             1  \n",
       "4             0  \n",
       "..          ...  \n",
       "263           0  \n",
       "264           1  \n",
       "265           0  \n",
       "266           0  \n",
       "267           0  \n",
       "\n",
       "[268 rows x 329 columns]>"
      ]
     },
     "execution_count": 125,
     "metadata": {},
     "output_type": "execute_result"
    }
   ],
   "source": [
    "df_encoded.info"
   ]
  },
  {
   "cell_type": "code",
   "execution_count": 129,
   "id": "89cb42d2",
   "metadata": {},
   "outputs": [
    {
     "name": "stdout",
     "output_type": "stream",
     "text": [
      "BP_USD        0\n",
      "MP_USD        0\n",
      "FP_USD        0\n",
      "Min_CC        0\n",
      "Max_CC        0\n",
      "             ..\n",
      "Segment_B2    0\n",
      "Segment_C1    0\n",
      "Segment_C2    0\n",
      "Segment_D1    0\n",
      "Segment_D2    0\n",
      "Length: 329, dtype: int64\n"
     ]
    }
   ],
   "source": [
    "# df_encoded.isna().count()\n",
    "print(df_encoded.isnull().sum())"
   ]
  },
  {
   "cell_type": "code",
   "execution_count": 130,
   "id": "e0d95f54",
   "metadata": {},
   "outputs": [
    {
     "name": "stdout",
     "output_type": "stream",
     "text": [
      "Null values after handling missing data:\n",
      "BP_USD        0\n",
      "MP_USD        0\n",
      "FP_USD        0\n",
      "Min_CC        0\n",
      "Max_CC        0\n",
      "             ..\n",
      "Segment_B2    0\n",
      "Segment_C1    0\n",
      "Segment_C2    0\n",
      "Segment_D1    0\n",
      "Segment_D2    0\n",
      "Length: 329, dtype: int64\n",
      "   BP_USD  MP_USD  FP_USD  Min_CC  Max_CC  Single_CC  Min_HP  Max_HP  \\\n",
      "0   22500   26000   30000    1600    2000        0.0     150     228   \n",
      "1   20000   23000   27000    1600    2000        0.0     120     252   \n",
      "2   20500   23000   28000    1600    2000        0.0     120     276   \n",
      "3   40000   45000   55000    1800    2000        0.0     160     280   \n",
      "4   30000   35000   40000    1800    2000        0.0     150     300   \n",
      "\n",
      "   No_add_prf  FE_KML_MIN  ...  Make_Toyota  Make_Volkswagen  Make_Volvo  \\\n",
      "0         0.0        15.0  ...            0                1           0   \n",
      "1         0.0        15.0  ...            0                0           0   \n",
      "2         0.0        14.0  ...            0                0           0   \n",
      "3         0.0         9.0  ...            0                0           0   \n",
      "4         0.0        12.0  ...            0                0           0   \n",
      "\n",
      "   Segment_A  Segment_B1  Segment_B2  Segment_C1  Segment_C2  Segment_D1  \\\n",
      "0          0           1           0           0           0           0   \n",
      "1          0           1           0           0           0           0   \n",
      "2          0           1           0           0           0           0   \n",
      "3          0           0           0           0           0           0   \n",
      "4          0           1           0           0           0           0   \n",
      "\n",
      "   Segment_D2  \n",
      "0           0  \n",
      "1           0  \n",
      "2           0  \n",
      "3           1  \n",
      "4           0  \n",
      "\n",
      "[5 rows x 329 columns]\n"
     ]
    }
   ],
   "source": [
    "\n",
    "# 2. Handling Null Values\n",
    "\n",
    "# Option 3: Fill missing values with a specific value (e.g., 0 or a meaningful statistic)\n",
    "df_filled = df_encoded.fillna(0)  # Replace all NaN values with 0\n",
    "\n",
    "# Option 1: Drop rows with any null values\n",
    "df_cleaned_drop = df_encoded.dropna(axis=0, how='any')\n",
    "\n",
    "# Option 2: Drop columns with any null values\n",
    "df_cleaned_drop_cols = df_encoded.dropna(axis=1, how='any')\n",
    "\n",
    "\n",
    "# Option 4: Fill missing values with the column's mean (for numerical columns)\n",
    "df_filled_mean = df_encoded.fillna(df_encoded.mean())\n",
    "\n",
    "# # Option 5: Fill missing values with the column's median (alternative to mean)\n",
    "# df_filled_median = df.fillna(df.median())\n",
    "\n",
    "# # Option 6: Fill missing values with the column's mode (for categorical columns)\n",
    "# df_filled_mode = df.fillna(df.mode().iloc[0])\n",
    "\n",
    "# # Option 7: Forward fill (fill using the next value)\n",
    "# df_forward_fill = df.fillna(method='ffill')\n",
    "\n",
    "# # Option 8: Backward fill (fill using the previous value)\n",
    "# df_backward_fill = df.fillna(method='bfill')\n",
    "\n",
    "# 3. Checking the Result\n",
    "# After applying a method, we can check if any nulls remain\n",
    "print(\"Null values after handling missing data:\")\n",
    "print(df_filled.isnull().sum())  # Check after filling with mean\n",
    "\n",
    "# Example to display the first few rows of the cleaned data\n",
    "print(df_filled.head())"
   ]
  },
  {
   "cell_type": "code",
   "execution_count": 131,
   "id": "f146c19f",
   "metadata": {},
   "outputs": [
    {
     "name": "stdout",
     "output_type": "stream",
     "text": [
      "     BP_USD  MP_USD  FP_USD  Min_CC  Max_CC  Single_CC  Min_HP  Max_HP  \\\n",
      "0     22500   26000   30000    1600    2000        NaN     150     228   \n",
      "1     20000   23000   27000    1600    2000        NaN     120     252   \n",
      "2     20500   23000   28000    1600    2000        NaN     120     276   \n",
      "3     40000   45000   55000    1800    2000        NaN     160     280   \n",
      "4     30000   35000   40000    1800    2000        NaN     150     300   \n",
      "..      ...     ...     ...     ...     ...        ...     ...     ...   \n",
      "263   30000   35000   40000    4200    4200        1.0     285     285   \n",
      "264  500000  600000  700000    5400    5400        1.0     617     617   \n",
      "265   18000   22000   25000    1800    1800        1.0     120     120   \n",
      "266   28000   32000   37000    3400    3400        1.0     185     185   \n",
      "267   40000   45000   50000    1200    1200        1.0     174     174   \n",
      "\n",
      "     No_add_prf  FE_KML_MIN  ...  Make_Toyota  Make_Volkswagen  Make_Volvo  \\\n",
      "0           NaN        15.0  ...            0                1           0   \n",
      "1           NaN        15.0  ...            0                0           0   \n",
      "2           NaN        14.0  ...            0                0           0   \n",
      "3           NaN         9.0  ...            0                0           0   \n",
      "4           NaN        12.0  ...            0                0           0   \n",
      "..          ...         ...  ...          ...              ...         ...   \n",
      "263         1.0         8.0  ...            0                0           0   \n",
      "264         1.0         7.0  ...            0                0           0   \n",
      "265         1.0        12.0  ...            0                0           0   \n",
      "266         1.0         9.0  ...            0                0           0   \n",
      "267         1.0         NaN  ...            0                0           0   \n",
      "\n",
      "     Segment_A  Segment_B1  Segment_B2  Segment_C1  Segment_C2  Segment_D1  \\\n",
      "0            0           1           0           0           0           0   \n",
      "1            0           1           0           0           0           0   \n",
      "2            0           1           0           0           0           0   \n",
      "3            0           0           0           0           0           0   \n",
      "4            0           1           0           0           0           0   \n",
      "..         ...         ...         ...         ...         ...         ...   \n",
      "263          0           0           0           0           1           0   \n",
      "264          0           0           0           0           0           0   \n",
      "265          0           1           0           0           0           0   \n",
      "266          0           0           0           0           1           0   \n",
      "267          0           0           0           1           0           0   \n",
      "\n",
      "     Segment_D2  \n",
      "0             0  \n",
      "1             0  \n",
      "2             0  \n",
      "3             1  \n",
      "4             0  \n",
      "..          ...  \n",
      "263           0  \n",
      "264           1  \n",
      "265           0  \n",
      "266           0  \n",
      "267           0  \n",
      "\n",
      "[268 rows x 329 columns]\n"
     ]
    },
    {
     "data": {
      "text/plain": [
       "Index(['Car_name', 'BP_USD', 'MP_USD', 'FP_USD', 'Make', 'Segment', 'Min_CC',\n",
       "       'Max_CC', 'Single_CC', 'Min_HP', 'Max_HP', 'No_add_prf', 'FE_KML_MIN',\n",
       "       'FE_KML_MAX', 'TCO_Min', 'TCO_Max', 'YTD', 'YTD LY', 'CHANGE %'],\n",
       "      dtype='object')"
      ]
     },
     "execution_count": 131,
     "metadata": {},
     "output_type": "execute_result"
    }
   ],
   "source": [
    "df_filled\n",
    "\n",
    "# Perform one-hot encoding on only the categorical columns\n",
    "df_encoded = pd.get_dummies(df,  drop_first=False) #columns=categorical_columns,\n",
    "\n",
    "print(df_encoded)\n",
    "\n",
    "df.columns\n"
   ]
  },
  {
   "cell_type": "code",
   "execution_count": 145,
   "id": "2b534431",
   "metadata": {},
   "outputs": [
    {
     "name": "stdout",
     "output_type": "stream",
     "text": [
      "(268, 328) (268,)\n"
     ]
    }
   ],
   "source": [
    "\n",
    "# Assuming 'target_column' is your output variable and all other columns are features\n",
    "col_X = df_filled.drop(columns=['YTD'])  # Features (X)  #'Car_name','Make','Segment'\n",
    "col_y = df_filled['YTD']  # Target (y)\n",
    "\n",
    "# Check the shapes of train_X and train_y\n",
    "# df_filled = col_X.fillna(0)\n",
    "\n",
    "print(col_X.shape, col_y.shape)"
   ]
  },
  {
   "cell_type": "code",
   "execution_count": 146,
   "id": "e4a70f90",
   "metadata": {},
   "outputs": [
    {
     "data": {
      "text/html": [
       "<div>\n",
       "<style scoped>\n",
       "    .dataframe tbody tr th:only-of-type {\n",
       "        vertical-align: middle;\n",
       "    }\n",
       "\n",
       "    .dataframe tbody tr th {\n",
       "        vertical-align: top;\n",
       "    }\n",
       "\n",
       "    .dataframe thead th {\n",
       "        text-align: right;\n",
       "    }\n",
       "</style>\n",
       "<table border=\"1\" class=\"dataframe\">\n",
       "  <thead>\n",
       "    <tr style=\"text-align: right;\">\n",
       "      <th></th>\n",
       "      <th>BP_USD</th>\n",
       "      <th>MP_USD</th>\n",
       "      <th>FP_USD</th>\n",
       "      <th>Min_CC</th>\n",
       "      <th>Max_CC</th>\n",
       "      <th>Single_CC</th>\n",
       "      <th>Min_HP</th>\n",
       "      <th>Max_HP</th>\n",
       "      <th>No_add_prf</th>\n",
       "      <th>FE_KML_MIN</th>\n",
       "      <th>...</th>\n",
       "      <th>Make_Toyota</th>\n",
       "      <th>Make_Volkswagen</th>\n",
       "      <th>Make_Volvo</th>\n",
       "      <th>Segment_A</th>\n",
       "      <th>Segment_B1</th>\n",
       "      <th>Segment_B2</th>\n",
       "      <th>Segment_C1</th>\n",
       "      <th>Segment_C2</th>\n",
       "      <th>Segment_D1</th>\n",
       "      <th>Segment_D2</th>\n",
       "    </tr>\n",
       "  </thead>\n",
       "  <tbody>\n",
       "    <tr>\n",
       "      <th>140</th>\n",
       "      <td>18500</td>\n",
       "      <td>21000</td>\n",
       "      <td>25000</td>\n",
       "      <td>1600</td>\n",
       "      <td>1600</td>\n",
       "      <td>1.0</td>\n",
       "      <td>132</td>\n",
       "      <td>132</td>\n",
       "      <td>1.0</td>\n",
       "      <td>16.0</td>\n",
       "      <td>...</td>\n",
       "      <td>0</td>\n",
       "      <td>0</td>\n",
       "      <td>0</td>\n",
       "      <td>1</td>\n",
       "      <td>0</td>\n",
       "      <td>0</td>\n",
       "      <td>0</td>\n",
       "      <td>0</td>\n",
       "      <td>0</td>\n",
       "      <td>0</td>\n",
       "    </tr>\n",
       "    <tr>\n",
       "      <th>165</th>\n",
       "      <td>30000</td>\n",
       "      <td>34000</td>\n",
       "      <td>39000</td>\n",
       "      <td>4600</td>\n",
       "      <td>4600</td>\n",
       "      <td>1.0</td>\n",
       "      <td>224</td>\n",
       "      <td>224</td>\n",
       "      <td>1.0</td>\n",
       "      <td>9.0</td>\n",
       "      <td>...</td>\n",
       "      <td>0</td>\n",
       "      <td>0</td>\n",
       "      <td>0</td>\n",
       "      <td>0</td>\n",
       "      <td>0</td>\n",
       "      <td>0</td>\n",
       "      <td>1</td>\n",
       "      <td>0</td>\n",
       "      <td>0</td>\n",
       "      <td>0</td>\n",
       "    </tr>\n",
       "    <tr>\n",
       "      <th>249</th>\n",
       "      <td>25000</td>\n",
       "      <td>30000</td>\n",
       "      <td>35000</td>\n",
       "      <td>3500</td>\n",
       "      <td>3500</td>\n",
       "      <td>1.0</td>\n",
       "      <td>200</td>\n",
       "      <td>200</td>\n",
       "      <td>1.0</td>\n",
       "      <td>8.0</td>\n",
       "      <td>...</td>\n",
       "      <td>0</td>\n",
       "      <td>0</td>\n",
       "      <td>0</td>\n",
       "      <td>0</td>\n",
       "      <td>0</td>\n",
       "      <td>0</td>\n",
       "      <td>0</td>\n",
       "      <td>0</td>\n",
       "      <td>1</td>\n",
       "      <td>0</td>\n",
       "    </tr>\n",
       "    <tr>\n",
       "      <th>16</th>\n",
       "      <td>40000</td>\n",
       "      <td>45000</td>\n",
       "      <td>50000</td>\n",
       "      <td>2000</td>\n",
       "      <td>2500</td>\n",
       "      <td>0.0</td>\n",
       "      <td>160</td>\n",
       "      <td>300</td>\n",
       "      <td>0.0</td>\n",
       "      <td>10.0</td>\n",
       "      <td>...</td>\n",
       "      <td>0</td>\n",
       "      <td>0</td>\n",
       "      <td>0</td>\n",
       "      <td>0</td>\n",
       "      <td>0</td>\n",
       "      <td>0</td>\n",
       "      <td>1</td>\n",
       "      <td>0</td>\n",
       "      <td>0</td>\n",
       "      <td>0</td>\n",
       "    </tr>\n",
       "    <tr>\n",
       "      <th>266</th>\n",
       "      <td>28000</td>\n",
       "      <td>32000</td>\n",
       "      <td>37000</td>\n",
       "      <td>3400</td>\n",
       "      <td>3400</td>\n",
       "      <td>1.0</td>\n",
       "      <td>185</td>\n",
       "      <td>185</td>\n",
       "      <td>1.0</td>\n",
       "      <td>9.0</td>\n",
       "      <td>...</td>\n",
       "      <td>0</td>\n",
       "      <td>0</td>\n",
       "      <td>0</td>\n",
       "      <td>0</td>\n",
       "      <td>0</td>\n",
       "      <td>0</td>\n",
       "      <td>0</td>\n",
       "      <td>1</td>\n",
       "      <td>0</td>\n",
       "      <td>0</td>\n",
       "    </tr>\n",
       "  </tbody>\n",
       "</table>\n",
       "<p>5 rows × 328 columns</p>\n",
       "</div>"
      ],
      "text/plain": [
       "     BP_USD  MP_USD  FP_USD  Min_CC  Max_CC  Single_CC  Min_HP  Max_HP  \\\n",
       "140   18500   21000   25000    1600    1600        1.0     132     132   \n",
       "165   30000   34000   39000    4600    4600        1.0     224     224   \n",
       "249   25000   30000   35000    3500    3500        1.0     200     200   \n",
       "16    40000   45000   50000    2000    2500        0.0     160     300   \n",
       "266   28000   32000   37000    3400    3400        1.0     185     185   \n",
       "\n",
       "     No_add_prf  FE_KML_MIN  ...  Make_Toyota  Make_Volkswagen  Make_Volvo  \\\n",
       "140         1.0        16.0  ...            0                0           0   \n",
       "165         1.0         9.0  ...            0                0           0   \n",
       "249         1.0         8.0  ...            0                0           0   \n",
       "16          0.0        10.0  ...            0                0           0   \n",
       "266         1.0         9.0  ...            0                0           0   \n",
       "\n",
       "     Segment_A  Segment_B1  Segment_B2  Segment_C1  Segment_C2  Segment_D1  \\\n",
       "140          1           0           0           0           0           0   \n",
       "165          0           0           0           1           0           0   \n",
       "249          0           0           0           0           0           1   \n",
       "16           0           0           0           1           0           0   \n",
       "266          0           0           0           0           1           0   \n",
       "\n",
       "     Segment_D2  \n",
       "140           0  \n",
       "165           0  \n",
       "249           0  \n",
       "16            0  \n",
       "266           0  \n",
       "\n",
       "[5 rows x 328 columns]"
      ]
     },
     "execution_count": 146,
     "metadata": {},
     "output_type": "execute_result"
    }
   ],
   "source": [
    "\n",
    "# Step 4: Split the data into training and testing sets\n",
    "X_train, X_test, y_train, y_test = train_test_split(col_X, col_y, test_size=0.2, random_state=42)\n",
    "X_train.head()"
   ]
  },
  {
   "cell_type": "code",
   "execution_count": 147,
   "id": "b65490da",
   "metadata": {},
   "outputs": [
    {
     "data": {
      "text/html": [
       "<div>\n",
       "<style scoped>\n",
       "    .dataframe tbody tr th:only-of-type {\n",
       "        vertical-align: middle;\n",
       "    }\n",
       "\n",
       "    .dataframe tbody tr th {\n",
       "        vertical-align: top;\n",
       "    }\n",
       "\n",
       "    .dataframe thead th {\n",
       "        text-align: right;\n",
       "    }\n",
       "</style>\n",
       "<table border=\"1\" class=\"dataframe\">\n",
       "  <thead>\n",
       "    <tr style=\"text-align: right;\">\n",
       "      <th></th>\n",
       "      <th>BP_USD</th>\n",
       "      <th>MP_USD</th>\n",
       "      <th>FP_USD</th>\n",
       "      <th>Min_CC</th>\n",
       "      <th>Max_CC</th>\n",
       "      <th>Single_CC</th>\n",
       "      <th>Min_HP</th>\n",
       "      <th>Max_HP</th>\n",
       "      <th>No_add_prf</th>\n",
       "      <th>FE_KML_MIN</th>\n",
       "      <th>...</th>\n",
       "      <th>Make_Toyota</th>\n",
       "      <th>Make_Volkswagen</th>\n",
       "      <th>Make_Volvo</th>\n",
       "      <th>Segment_A</th>\n",
       "      <th>Segment_B1</th>\n",
       "      <th>Segment_B2</th>\n",
       "      <th>Segment_C1</th>\n",
       "      <th>Segment_C2</th>\n",
       "      <th>Segment_D1</th>\n",
       "      <th>Segment_D2</th>\n",
       "    </tr>\n",
       "  </thead>\n",
       "  <tbody>\n",
       "    <tr>\n",
       "      <th>0</th>\n",
       "      <td>22500</td>\n",
       "      <td>26000</td>\n",
       "      <td>30000</td>\n",
       "      <td>1600</td>\n",
       "      <td>2000</td>\n",
       "      <td>0.0</td>\n",
       "      <td>150</td>\n",
       "      <td>228</td>\n",
       "      <td>0.0</td>\n",
       "      <td>15.0</td>\n",
       "      <td>...</td>\n",
       "      <td>0</td>\n",
       "      <td>1</td>\n",
       "      <td>0</td>\n",
       "      <td>0</td>\n",
       "      <td>1</td>\n",
       "      <td>0</td>\n",
       "      <td>0</td>\n",
       "      <td>0</td>\n",
       "      <td>0</td>\n",
       "      <td>0</td>\n",
       "    </tr>\n",
       "    <tr>\n",
       "      <th>1</th>\n",
       "      <td>20000</td>\n",
       "      <td>23000</td>\n",
       "      <td>27000</td>\n",
       "      <td>1600</td>\n",
       "      <td>2000</td>\n",
       "      <td>0.0</td>\n",
       "      <td>120</td>\n",
       "      <td>252</td>\n",
       "      <td>0.0</td>\n",
       "      <td>15.0</td>\n",
       "      <td>...</td>\n",
       "      <td>0</td>\n",
       "      <td>0</td>\n",
       "      <td>0</td>\n",
       "      <td>0</td>\n",
       "      <td>1</td>\n",
       "      <td>0</td>\n",
       "      <td>0</td>\n",
       "      <td>0</td>\n",
       "      <td>0</td>\n",
       "      <td>0</td>\n",
       "    </tr>\n",
       "    <tr>\n",
       "      <th>2</th>\n",
       "      <td>20500</td>\n",
       "      <td>23000</td>\n",
       "      <td>28000</td>\n",
       "      <td>1600</td>\n",
       "      <td>2000</td>\n",
       "      <td>0.0</td>\n",
       "      <td>120</td>\n",
       "      <td>276</td>\n",
       "      <td>0.0</td>\n",
       "      <td>14.0</td>\n",
       "      <td>...</td>\n",
       "      <td>0</td>\n",
       "      <td>0</td>\n",
       "      <td>0</td>\n",
       "      <td>0</td>\n",
       "      <td>1</td>\n",
       "      <td>0</td>\n",
       "      <td>0</td>\n",
       "      <td>0</td>\n",
       "      <td>0</td>\n",
       "      <td>0</td>\n",
       "    </tr>\n",
       "    <tr>\n",
       "      <th>3</th>\n",
       "      <td>40000</td>\n",
       "      <td>45000</td>\n",
       "      <td>55000</td>\n",
       "      <td>1800</td>\n",
       "      <td>2000</td>\n",
       "      <td>0.0</td>\n",
       "      <td>160</td>\n",
       "      <td>280</td>\n",
       "      <td>0.0</td>\n",
       "      <td>9.0</td>\n",
       "      <td>...</td>\n",
       "      <td>0</td>\n",
       "      <td>0</td>\n",
       "      <td>0</td>\n",
       "      <td>0</td>\n",
       "      <td>0</td>\n",
       "      <td>0</td>\n",
       "      <td>0</td>\n",
       "      <td>0</td>\n",
       "      <td>0</td>\n",
       "      <td>1</td>\n",
       "    </tr>\n",
       "    <tr>\n",
       "      <th>4</th>\n",
       "      <td>30000</td>\n",
       "      <td>35000</td>\n",
       "      <td>40000</td>\n",
       "      <td>1800</td>\n",
       "      <td>2000</td>\n",
       "      <td>0.0</td>\n",
       "      <td>150</td>\n",
       "      <td>300</td>\n",
       "      <td>0.0</td>\n",
       "      <td>12.0</td>\n",
       "      <td>...</td>\n",
       "      <td>0</td>\n",
       "      <td>0</td>\n",
       "      <td>0</td>\n",
       "      <td>0</td>\n",
       "      <td>1</td>\n",
       "      <td>0</td>\n",
       "      <td>0</td>\n",
       "      <td>0</td>\n",
       "      <td>0</td>\n",
       "      <td>0</td>\n",
       "    </tr>\n",
       "  </tbody>\n",
       "</table>\n",
       "<p>5 rows × 328 columns</p>\n",
       "</div>"
      ],
      "text/plain": [
       "   BP_USD  MP_USD  FP_USD  Min_CC  Max_CC  Single_CC  Min_HP  Max_HP  \\\n",
       "0   22500   26000   30000    1600    2000        0.0     150     228   \n",
       "1   20000   23000   27000    1600    2000        0.0     120     252   \n",
       "2   20500   23000   28000    1600    2000        0.0     120     276   \n",
       "3   40000   45000   55000    1800    2000        0.0     160     280   \n",
       "4   30000   35000   40000    1800    2000        0.0     150     300   \n",
       "\n",
       "   No_add_prf  FE_KML_MIN  ...  Make_Toyota  Make_Volkswagen  Make_Volvo  \\\n",
       "0         0.0        15.0  ...            0                1           0   \n",
       "1         0.0        15.0  ...            0                0           0   \n",
       "2         0.0        14.0  ...            0                0           0   \n",
       "3         0.0         9.0  ...            0                0           0   \n",
       "4         0.0        12.0  ...            0                0           0   \n",
       "\n",
       "   Segment_A  Segment_B1  Segment_B2  Segment_C1  Segment_C2  Segment_D1  \\\n",
       "0          0           1           0           0           0           0   \n",
       "1          0           1           0           0           0           0   \n",
       "2          0           1           0           0           0           0   \n",
       "3          0           0           0           0           0           0   \n",
       "4          0           1           0           0           0           0   \n",
       "\n",
       "   Segment_D2  \n",
       "0           0  \n",
       "1           0  \n",
       "2           0  \n",
       "3           1  \n",
       "4           0  \n",
       "\n",
       "[5 rows x 328 columns]"
      ]
     },
     "execution_count": 147,
     "metadata": {},
     "output_type": "execute_result"
    }
   ],
   "source": [
    "col_X.head()"
   ]
  },
  {
   "cell_type": "code",
   "execution_count": 150,
   "id": "937ebdb4",
   "metadata": {},
   "outputs": [],
   "source": [
    "import numpy as np\n",
    "\n",
    "train_X_contig = np.ascontiguousarray(X_test)"
   ]
  },
  {
   "cell_type": "code",
   "execution_count": 156,
   "id": "e089db9c",
   "metadata": {
    "scrolled": true
   },
   "outputs": [
    {
     "name": "stderr",
     "output_type": "stream",
     "text": [
      "/Applications/CodeBase/anaconda3/lib/python3.11/site-packages/sklearn/base.py:464: UserWarning: X does not have valid feature names, but KNeighborsClassifier was fitted with feature names\n",
      "  warnings.warn(\n"
     ]
    },
    {
     "data": {
      "text/plain": [
       "0.018518518518518517"
      ]
     },
     "execution_count": 156,
     "metadata": {},
     "output_type": "execute_result"
    }
   ],
   "source": [
    "from sklearn.neighbors import KNeighborsClassifier\n",
    "\n",
    "knn = KNeighborsClassifier(n_neighbors=2)\n",
    "knn.fit(X_train,y_train)\n",
    "\n",
    "knn.score(train_X_contig,y_test)"
   ]
  },
  {
   "cell_type": "code",
   "execution_count": 157,
   "id": "52feb7cd",
   "metadata": {},
   "outputs": [
    {
     "name": "stderr",
     "output_type": "stream",
     "text": [
      "/Applications/CodeBase/anaconda3/lib/python3.11/site-packages/sklearn/base.py:464: UserWarning: X does not have valid feature names, but KNeighborsClassifier was fitted with feature names\n",
      "  warnings.warn(\n"
     ]
    },
    {
     "data": {
      "text/plain": [
       "array([[0, 0, 0, ..., 0, 0, 0],\n",
       "       [0, 0, 0, ..., 0, 0, 0],\n",
       "       [0, 0, 0, ..., 0, 0, 0],\n",
       "       ...,\n",
       "       [0, 0, 0, ..., 0, 0, 0],\n",
       "       [0, 0, 0, ..., 0, 0, 0],\n",
       "       [0, 0, 0, ..., 0, 1, 0]])"
      ]
     },
     "execution_count": 157,
     "metadata": {},
     "output_type": "execute_result"
    }
   ],
   "source": [
    "from sklearn.metrics import confusion_matrix\n",
    "y_pred =  knn.predict(train_X_contig)\n",
    "cm = confusion_matrix(y_test, y_pred)\n",
    "cm"
   ]
  },
  {
   "cell_type": "code",
   "execution_count": 158,
   "id": "f421ee0a",
   "metadata": {},
   "outputs": [
    {
     "data": {
      "text/plain": [
       "Text(58.222222222222214, 0.5, 'Truth')"
      ]
     },
     "execution_count": 158,
     "metadata": {},
     "output_type": "execute_result"
    },
    {
     "data": {
      "image/png": "[encoded data removed]",
      "text/plain": [
       "<Figure size 700x500 with 2 Axes>"
      ]
     },
     "metadata": {},
     "output_type": "display_data"
    }
   ],
   "source": [
    "%matplotlib inline\n",
    "import matplotlib.pyplot as plt\n",
    "import seaborn as sn\n",
    "plt.figure(figsize=(7,5))\n",
    "sn.heatmap(cm, annot=True)\n",
    "plt.xlabel('Predicted')\n",
    "plt.ylabel('Truth')\n"
   ]
  },
  {
   "cell_type": "markdown",
   "id": "19c89fc9",
   "metadata": {},
   "source": [
    "# EDA - Seperate"
   ]
  },
  {
   "cell_type": "code",
   "execution_count": 159,
   "id": "cec04134",
   "metadata": {},
   "outputs": [
    {
     "data": {
      "text/html": [
       "<div>\n",
       "<style scoped>\n",
       "    .dataframe tbody tr th:only-of-type {\n",
       "        vertical-align: middle;\n",
       "    }\n",
       "\n",
       "    .dataframe tbody tr th {\n",
       "        vertical-align: top;\n",
       "    }\n",
       "\n",
       "    .dataframe thead th {\n",
       "        text-align: right;\n",
       "    }\n",
       "</style>\n",
       "<table border=\"1\" class=\"dataframe\">\n",
       "  <thead>\n",
       "    <tr style=\"text-align: right;\">\n",
       "      <th></th>\n",
       "      <th>Car_name</th>\n",
       "      <th>BP_USD</th>\n",
       "      <th>MP_USD</th>\n",
       "      <th>FP_USD</th>\n",
       "      <th>Make</th>\n",
       "      <th>Segment</th>\n",
       "      <th>Min_CC</th>\n",
       "      <th>Max_CC</th>\n",
       "      <th>Single_CC</th>\n",
       "      <th>Min_HP</th>\n",
       "      <th>...</th>\n",
       "      <th>TCO_Min</th>\n",
       "      <th>TCO_Max</th>\n",
       "      <th>YTD</th>\n",
       "      <th>YTD LY</th>\n",
       "      <th>CHANGE %</th>\n",
       "      <th>Year</th>\n",
       "      <th>FED_INT_CHG</th>\n",
       "      <th>UNMP_CHG</th>\n",
       "      <th>GDP_CHG</th>\n",
       "      <th>UNMP_RATE</th>\n",
       "    </tr>\n",
       "  </thead>\n",
       "  <tbody>\n",
       "    <tr>\n",
       "      <th>0</th>\n",
       "      <td>Volkswagen Jetta</td>\n",
       "      <td>22500.0</td>\n",
       "      <td>26000.0</td>\n",
       "      <td>30000.0</td>\n",
       "      <td>Volkswagen</td>\n",
       "      <td>B1</td>\n",
       "      <td>1600.00</td>\n",
       "      <td>2000.00</td>\n",
       "      <td>NaN</td>\n",
       "      <td>150.0</td>\n",
       "      <td>...</td>\n",
       "      <td>4000.0</td>\n",
       "      <td>6000.0</td>\n",
       "      <td>97461.0</td>\n",
       "      <td>98951.0</td>\n",
       "      <td>-1.51</td>\n",
       "      <td>2008.0</td>\n",
       "      <td>50.0</td>\n",
       "      <td>100.0</td>\n",
       "      <td>4.3</td>\n",
       "      <td>6.65</td>\n",
       "    </tr>\n",
       "    <tr>\n",
       "      <th>1</th>\n",
       "      <td>Ford Focus</td>\n",
       "      <td>20000.0</td>\n",
       "      <td>23000.0</td>\n",
       "      <td>27000.0</td>\n",
       "      <td>Ford</td>\n",
       "      <td>B1</td>\n",
       "      <td>1600.00</td>\n",
       "      <td>2000.00</td>\n",
       "      <td>NaN</td>\n",
       "      <td>120.0</td>\n",
       "      <td>...</td>\n",
       "      <td>4000.0</td>\n",
       "      <td>6000.0</td>\n",
       "      <td>195823.0</td>\n",
       "      <td>173213.0</td>\n",
       "      <td>13.05</td>\n",
       "      <td>2008.0</td>\n",
       "      <td>50.0</td>\n",
       "      <td>100.0</td>\n",
       "      <td>4.3</td>\n",
       "      <td>6.65</td>\n",
       "    </tr>\n",
       "    <tr>\n",
       "      <th>2</th>\n",
       "      <td>Hyundai Elantra</td>\n",
       "      <td>20500.0</td>\n",
       "      <td>23000.0</td>\n",
       "      <td>28000.0</td>\n",
       "      <td>Hyundai</td>\n",
       "      <td>B1</td>\n",
       "      <td>1600.00</td>\n",
       "      <td>2000.00</td>\n",
       "      <td>NaN</td>\n",
       "      <td>120.0</td>\n",
       "      <td>...</td>\n",
       "      <td>4000.0</td>\n",
       "      <td>6000.0</td>\n",
       "      <td>94720.0</td>\n",
       "      <td>85724.0</td>\n",
       "      <td>10.49</td>\n",
       "      <td>2008.0</td>\n",
       "      <td>50.0</td>\n",
       "      <td>100.0</td>\n",
       "      <td>4.3</td>\n",
       "      <td>6.65</td>\n",
       "    </tr>\n",
       "    <tr>\n",
       "      <th>3</th>\n",
       "      <td>Audi TT</td>\n",
       "      <td>40000.0</td>\n",
       "      <td>45000.0</td>\n",
       "      <td>55000.0</td>\n",
       "      <td>Audi</td>\n",
       "      <td>D2</td>\n",
       "      <td>1800.00</td>\n",
       "      <td>2000.00</td>\n",
       "      <td>NaN</td>\n",
       "      <td>160.0</td>\n",
       "      <td>...</td>\n",
       "      <td>7000.0</td>\n",
       "      <td>9500.0</td>\n",
       "      <td>4486.0</td>\n",
       "      <td>4355.0</td>\n",
       "      <td>3.01</td>\n",
       "      <td>2008.0</td>\n",
       "      <td>50.0</td>\n",
       "      <td>100.0</td>\n",
       "      <td>4.3</td>\n",
       "      <td>6.65</td>\n",
       "    </tr>\n",
       "    <tr>\n",
       "      <th>4</th>\n",
       "      <td>Audi A3</td>\n",
       "      <td>30000.0</td>\n",
       "      <td>35000.0</td>\n",
       "      <td>40000.0</td>\n",
       "      <td>Audi</td>\n",
       "      <td>B1</td>\n",
       "      <td>1800.00</td>\n",
       "      <td>2000.00</td>\n",
       "      <td>NaN</td>\n",
       "      <td>150.0</td>\n",
       "      <td>...</td>\n",
       "      <td>6000.0</td>\n",
       "      <td>8500.0</td>\n",
       "      <td>4759.0</td>\n",
       "      <td>6354.0</td>\n",
       "      <td>-25.10</td>\n",
       "      <td>2008.0</td>\n",
       "      <td>50.0</td>\n",
       "      <td>100.0</td>\n",
       "      <td>4.3</td>\n",
       "      <td>6.65</td>\n",
       "    </tr>\n",
       "  </tbody>\n",
       "</table>\n",
       "<p>5 rows × 24 columns</p>\n",
       "</div>"
      ],
      "text/plain": [
       "           Car_name   BP_USD   MP_USD   FP_USD        Make Segment   Min_CC  \\\n",
       "0  Volkswagen Jetta  22500.0  26000.0  30000.0  Volkswagen      B1  1600.00   \n",
       "1        Ford Focus  20000.0  23000.0  27000.0        Ford      B1  1600.00   \n",
       "2   Hyundai Elantra  20500.0  23000.0  28000.0     Hyundai      B1  1600.00   \n",
       "3           Audi TT  40000.0  45000.0  55000.0        Audi      D2  1800.00   \n",
       "4           Audi A3  30000.0  35000.0  40000.0        Audi      B1  1800.00   \n",
       "\n",
       "    Max_CC  Single_CC  Min_HP  ...  TCO_Min  TCO_Max       YTD    YTD LY  \\\n",
       "0  2000.00        NaN   150.0  ...   4000.0   6000.0   97461.0   98951.0   \n",
       "1  2000.00        NaN   120.0  ...   4000.0   6000.0  195823.0  173213.0   \n",
       "2  2000.00        NaN   120.0  ...   4000.0   6000.0   94720.0   85724.0   \n",
       "3  2000.00        NaN   160.0  ...   7000.0   9500.0    4486.0    4355.0   \n",
       "4  2000.00        NaN   150.0  ...   6000.0   8500.0    4759.0    6354.0   \n",
       "\n",
       "   CHANGE %    Year  FED_INT_CHG  UNMP_CHG  GDP_CHG  UNMP_RATE  \n",
       "0     -1.51  2008.0         50.0     100.0      4.3       6.65  \n",
       "1     13.05  2008.0         50.0     100.0      4.3       6.65  \n",
       "2     10.49  2008.0         50.0     100.0      4.3       6.65  \n",
       "3      3.01  2008.0         50.0     100.0      4.3       6.65  \n",
       "4    -25.10  2008.0         50.0     100.0      4.3       6.65  \n",
       "\n",
       "[5 rows x 24 columns]"
      ]
     },
     "execution_count": 159,
     "metadata": {},
     "output_type": "execute_result"
    }
   ],
   "source": [
    "cars = pd.read_csv('CS_08_20.csv')\n",
    "\n",
    "cars_BF = cars\n",
    "cars = cars.fillna(0)  # Replace all NaN values with 0\n",
    "cars.head()"
   ]
  },
  {
   "cell_type": "code",
   "execution_count": null,
   "id": "0a7df538",
   "metadata": {},
   "outputs": [],
   "source": [
    "cars_BF = cars\n",
    "cars = cars.fillna(0)  # Replace all NaN values with 0"
   ]
  },
  {
   "cell_type": "code",
   "execution_count": null,
   "id": "a10d3475",
   "metadata": {},
   "outputs": [],
   "source": [
    "import matplotlib.pyplot as plt\n",
    "import seaborn as sns\n",
    "import warnings as wr\n",
    "wr.filterwarnings('ignore')\n",
    "\n",
    "# Set Seaborn style\n",
    "sns.set_style(\"darkgrid\")\n",
    "\n",
    "# Identify numerical columns\n",
    "numerical_columns = cars.select_dtypes(include=[\"int64\", \"float64\"]).columns\n",
    "\n",
    "# Plot distribution of each numerical feature\n",
    "plt.figure(figsize=(14, len(numerical_columns) * 3))\n",
    "for idx, feature in enumerate(numerical_columns, 1):\n",
    "    plt.subplot(len(numerical_columns), 2, idx)\n",
    "    sns.histplot(cars[feature], kde=True)\n",
    "    plt.title(f\"{feature} | Skewness: {round(cars[feature].skew(), 2)}\")\n",
    "\n",
    "# Adjust layout and show plots\n",
    "plt.tight_layout()\n",
    "plt.show()\n",
    "\n",
    "\n",
    "##########################################################\n",
    "#Univariate\n",
    "\n",
    "# Assuming 'df' is your DataFrame\n",
    "quality_counts = cars['Segment'].value_counts()\n",
    "\n",
    "# Using Matplotlib to create a count plot\n",
    "plt.figure(figsize=(3, 3))\n",
    "plt.bar(quality_counts.index, quality_counts, color = 'Blue') #, color='darkpink')\n",
    "plt.title('Count Plot of Quality')\n",
    "plt.xlabel('USD')\n",
    "plt.ylabel('Count')\n",
    "plt.show()"
   ]
  },
  {
   "cell_type": "code",
   "execution_count": null,
   "id": "75b76080",
   "metadata": {},
   "outputs": [],
   "source": []
  }
 ],
 "metadata": {
  "kernelspec": {
   "display_name": "Python 3 (ipykernel)",
   "language": "python",
   "name": "python3"
  },
  "language_info": {
   "codemirror_mode": {
    "name": "ipython",
    "version": 3
   },
   "file_extension": ".py",
   "mimetype": "text/x-python",
   "name": "python",
   "nbconvert_exporter": "python",
   "pygments_lexer": "ipython3",
   "version": "3.11.4"
  }
 },
 "nbformat": 4,
 "nbformat_minor": 5
}
